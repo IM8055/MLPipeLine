{
  "nbformat": 4,
  "nbformat_minor": 0,
  "metadata": {
    "kernelspec": {
      "display_name": "Python 3",
      "language": "python",
      "name": "python3"
    },
    "language_info": {
      "codemirror_mode": {
        "name": "ipython",
        "version": 3
      },
      "file_extension": ".py",
      "mimetype": "text/x-python",
      "name": "python",
      "nbconvert_exporter": "python",
      "pygments_lexer": "ipython3",
      "version": "3.7.3"
    },
    "colab": {
      "name": "MLPipeLine.ipynb",
      "provenance": [],
      "collapsed_sections": [],
      "toc_visible": true
    }
  },
  "cells": [
    {
      "cell_type": "code",
      "metadata": {
        "id": "92A13solYPOv",
        "colab_type": "code",
        "colab": {
          "base_uri": "https://localhost:8080/",
          "height": 122
        },
        "outputId": "eeb5ee31-d7ed-4c0c-f554-ee9248a80213"
      },
      "source": [
        "from google.colab import drive\n",
        "drive.mount('/content/gdrive')"
      ],
      "execution_count": 1,
      "outputs": [
        {
          "output_type": "stream",
          "text": [
            "Go to this URL in a browser: https://accounts.google.com/o/oauth2/auth?client_id=947318989803-6bn6qk8qdgf4n4g3pfee6491hc0brc4i.apps.googleusercontent.com&redirect_uri=urn%3aietf%3awg%3aoauth%3a2.0%3aoob&scope=email%20https%3a%2f%2fwww.googleapis.com%2fauth%2fdocs.test%20https%3a%2f%2fwww.googleapis.com%2fauth%2fdrive%20https%3a%2f%2fwww.googleapis.com%2fauth%2fdrive.photos.readonly%20https%3a%2f%2fwww.googleapis.com%2fauth%2fpeopleapi.readonly&response_type=code\n",
            "\n",
            "Enter your authorization code:\n",
            "··········\n",
            "Mounted at /content/gdrive\n"
          ],
          "name": "stdout"
        }
      ]
    },
    {
      "cell_type": "markdown",
      "metadata": {
        "id": "Z2OtEMW5X3Sy",
        "colab_type": "text"
      },
      "source": [
        "# Dependancies"
      ]
    },
    {
      "cell_type": "code",
      "metadata": {
        "id": "Nny9O0S1X3Sz",
        "colab_type": "code",
        "colab": {
          "base_uri": "https://localhost:8080/",
          "height": 71
        },
        "outputId": "872301f7-25fe-48b8-f3a5-e44938a6047c"
      },
      "source": [
        "### Data handling libraries ###\n",
        "\n",
        "import numpy as np\n",
        "import pandas as pd\n",
        "import os\n",
        "\n",
        "### Plotting Libraries ### \n",
        "\n",
        "import matplotlib.pyplot as plt\n",
        "import seaborn as sns\n",
        "from matplotlib.pyplot import figure\n",
        "plt.style.use('ggplot')\n",
        "plt.rcParams['figure.figsize'] = (12,8)\n",
        "\n",
        "### Date Time ###\n",
        "\n",
        "import datetime\n",
        "import time\n",
        "import pytz\n",
        "\n",
        "### Warnings ###\n",
        "import warnings\n",
        "warnings.filterwarnings('ignore')\n",
        "\n",
        "### Progress Bar ###\n",
        "from tqdm import tqdm\n",
        "\n",
        "### Model Building, Model Evaluvation, Model Preprocessing ###\n",
        "\n",
        "from sklearn.model_selection import train_test_split\n",
        "from sklearn import preprocessing\n",
        "from sklearn.preprocessing import StandardScaler\n",
        "from sklearn.model_selection import RandomizedSearchCV\n",
        "\n",
        "# Models Imbalance # \n",
        "\n",
        "from imblearn.under_sampling import RandomUnderSampler\n",
        "from imblearn.over_sampling import SMOTE\n",
        "from imblearn.pipeline import Pipeline\n",
        "\n",
        "# ML MODELS #\n",
        "\n",
        "from sklearn.dummy import DummyClassifier\n",
        "from sklearn.ensemble import RandomForestClassifier\n",
        "\n",
        "# Scoring Dependancies #\n",
        "\n",
        "from sklearn.metrics import accuracy_score, recall_score, precision_score, f1_score \n",
        "# from sklearn.metrics import average_precision_score,make_scorer\n",
        "from sklearn.model_selection import cross_val_score, cross_validate, KFold\n",
        "import sklearn.metrics as metrics\n",
        "from sklearn.metrics import confusion_matrix\n",
        "\n",
        "# Models Saving #\n",
        "\n",
        "import pickle\n",
        "\n",
        "# Other #\n",
        "from collections import Counter\n",
        "from sklearn.utils import shuffle"
      ],
      "execution_count": 2,
      "outputs": [
        {
          "output_type": "stream",
          "text": [
            "/usr/local/lib/python3.6/dist-packages/statsmodels/tools/_testing.py:19: FutureWarning: pandas.util.testing is deprecated. Use the functions in the public API at pandas.testing instead.\n",
            "  import pandas.util.testing as tm\n"
          ],
          "name": "stderr"
        }
      ]
    },
    {
      "cell_type": "markdown",
      "metadata": {
        "id": "zMn86PXVX3TT",
        "colab_type": "text"
      },
      "source": [
        "# Constants"
      ]
    },
    {
      "cell_type": "code",
      "metadata": {
        "id": "TOyYcCXWX3TU",
        "colab_type": "code",
        "colab": {}
      },
      "source": [
        "PATH = r'/content/gdrive/My Drive/MLPipeLine'\n",
        "READFILE = 'investments_VC.csv'\n",
        "ROWS = 0\n",
        "COLUMNS = 0\n",
        "SEARCHFIT = 0\n",
        "LISTCOLUMNNAME= []\n",
        "LISTFUNDINGCOL = ['seed', 'venture',\n",
        "       'equity_crowdfunding', 'undisclosed', 'convertible_note',\n",
        "       'debt_financing', 'grant', 'private_equity', 'post_ipo_equity',\n",
        "       'post_ipo_debt', 'secondary_market', 'product_crowdfunding', 'round_A',\n",
        "       'round_B', 'round_C', 'round_D', 'round_E', 'round_F', 'round_G',\n",
        "       'round_H']\n",
        "\n",
        "MAINDF = pd.read_csv(os.path.join(PATH, READFILE), encoding='latin1')\n",
        "LISTCOLUMNNAME = list(MAINDF.columns)\n",
        "ROWS, COLUMNS = MAINDF.shape"
      ],
      "execution_count": 3,
      "outputs": []
    },
    {
      "cell_type": "markdown",
      "metadata": {
        "id": "HXztwO64X3Tw",
        "colab_type": "text"
      },
      "source": [
        "# Functions"
      ]
    },
    {
      "cell_type": "code",
      "metadata": {
        "id": "WmHSDo4AesGY",
        "colab_type": "code",
        "colab": {}
      },
      "source": [
        "def funcCustomCVScore(fncp_X_train, fncp_y_train, fncpKFold,fncpBaseModel, fncpBaseModelParam=None, fncpRandomState=123, fncpScoreAverage='weighted'):\n",
        "\n",
        "  '''\n",
        "  This function splits the X_train and y_train into folds for cross calulating recall, precesion and f1 score's of each fold and returns the scores \n",
        "  and prints the mean score and the 95% confidence interval of the score estimate.\n",
        "\n",
        "  input:\n",
        "     fncp_X_train - X_train\n",
        "     fncp_y_train - y_train\n",
        "     fncpKFold - No of folds\n",
        "     fncpBaseModel - Base model. Ex: RandomForestClassifier\n",
        "     (Optional) (dict) - Parameters to be used in the base model\n",
        "     (Optional)  fncpRandomState\n",
        "     (Optional) fncpScoreAverage\n",
        "  output:\n",
        "    recallScores\n",
        "    precisionScores\n",
        "    f1Scores\n",
        "\n",
        "  '''\n",
        "  kfold = KFold(n_splits=fncpKFold, random_state=fncpRandomState)\n",
        "  recallScores = []\n",
        "  precisionScores = []\n",
        "  f1Scores = []\n",
        "  for train_index, test_index in tqdm(kfold.split(fncp_X_train)):\n",
        "    cv_X_train = fncp_X_train[fncp_X_train.index.isin(train_index)]\n",
        "    cv_X_test = fncp_X_train[fncp_X_train.index.isin(test_index)]\n",
        "\n",
        "    cv_y_train = fncp_y_train[fncp_y_train.index.isin(train_index)]\n",
        "    cv_y_test = fncp_y_train[fncp_y_train.index.isin(test_index)]\n",
        "\n",
        "    if fncpBaseModelParam == None:\n",
        "      model = fncpBaseModel()\n",
        "    else:\n",
        "      model = fncpBaseModel(**fncpBaseModelParam)\n",
        "    model.fit(cv_X_train,cv_y_train)\n",
        "\n",
        "    tempScore = round(recall_score(cv_y_test, model.predict(cv_X_test), average=fncpScoreAverage)*100,2)\n",
        "    precisionScores.append(tempScore)\n",
        "\n",
        "    tempScore = round(precision_score(cv_y_test, model.predict(cv_X_test), average=fncpScoreAverage)*100,2)\n",
        "    recallScores.append(tempScore)\n",
        "\n",
        "    tempScore = round(f1_score(cv_y_test, model.predict(cv_X_test), average=fncpScoreAverage)*100,2)\n",
        "    f1Scores.append(tempScore)\n",
        "  print('\\n')\n",
        "  print(f'The mean score and the 95% confidence interval of the score estimate are')\n",
        "  print(\"Recall: %0.2f (+/- %0.2f)\" % (np.array(recallScores).mean(), np.array(recallScores).std() * 2))\n",
        "  print(\"Precision: %0.2f (+/- %0.2f)\" % (np.array(precisionScores).mean(), np.array(precisionScores).std() * 2))\n",
        "  print(\"F1-Score: %0.2f (+/- %0.2f)\" % (np.array(f1Scores).mean(), np.array(f1Scores).std() * 2))\n",
        "  return recallScores, precisionScores, f1Scores"
      ],
      "execution_count": 4,
      "outputs": []
    },
    {
      "cell_type": "code",
      "metadata": {
        "id": "CWY3EcWc9WfM",
        "colab_type": "code",
        "colab": {}
      },
      "source": [
        "def funcCustomCVScore(fncp_X_train, fncp_y_train, fncpKFold,fncpBaseModel, fncpBaseModelParam=None, fncpRandomState=123, fncpScoreAverage='weighted'):\n",
        "\n",
        "  '''\n",
        "  This function splits the X_train and y_train into folds for cross calulating recall, precesion and f1 score's of each fold and returns the scores \n",
        "  and prints the mean score and the 95% confidence interval of the score estimate.\n",
        "\n",
        "  input:\n",
        "     fncp_X_train - X_train\n",
        "     fncp_y_train - y_train\n",
        "     fncpKFold - No of folds\n",
        "     fncpBaseModel - Base model. Ex: RandomForestClassifier\n",
        "     (Optional) (dict) - Parameters to be used in the base model\n",
        "     (Optional)  fncpRandomState\n",
        "     (Optional) fncpScoreAverage\n",
        "  output:\n",
        "    recallScores\n",
        "    precisionScores\n",
        "    f1Scores\n",
        "\n",
        "  '''\n",
        "  kfold = KFold(n_splits=fncpKFold, random_state=fncpRandomState)\n",
        "  recallScores = []\n",
        "  precisionScores = []\n",
        "  f1Scores = []\n",
        "  for train_index, test_index in tqdm(kfold.split(fncp_X_train)):\n",
        "    cv_X_train = fncp_X_train[fncp_X_train.index.isin(train_index)]\n",
        "    cv_X_test = fncp_X_train[fncp_X_train.index.isin(test_index)]\n",
        "\n",
        "    cv_y_train = fncp_y_train[fncp_y_train.index.isin(train_index)]\n",
        "    cv_y_test = fncp_y_train[fncp_y_train.index.isin(test_index)]\n",
        "\n",
        "    if fncpBaseModelParam == None:\n",
        "      model = fncpBaseModel()\n",
        "    else:\n",
        "      model = fncpBaseModel(**fncpBaseModelParam)\n",
        "    model.fit(cv_X_train,cv_y_train)\n",
        "\n",
        "    tempScore = round(recall_score(cv_y_test, model.predict(cv_X_test), average=fncpScoreAverage)*100,2)\n",
        "    precisionScores.append(tempScore)\n",
        "\n",
        "    tempScore = round(precision_score(cv_y_test, model.predict(cv_X_test), average=fncpScoreAverage)*100,2)\n",
        "    recallScores.append(tempScore)\n",
        "\n",
        "    tempScore = round(f1_score(cv_y_test, model.predict(cv_X_test), average=fncpScoreAverage)*100,2)\n",
        "    f1Scores.append(tempScore)\n",
        "  print('\\n')\n",
        "  print(f'The mean score and the 95% confidence interval of the score estimate are')\n",
        "  print(\"Recall: %0.2f (+/- %0.2f)\" % (np.array(recallScores).mean(), np.array(recallScores).std() * 2))\n",
        "  print(\"Precision: %0.2f (+/- %0.2f)\" % (np.array(precisionScores).mean(), np.array(precisionScores).std() * 2))\n",
        "  print(\"F1-Score: %0.2f (+/- %0.2f)\" % (np.array(f1Scores).mean(), np.array(f1Scores).std() * 2))\n",
        "  return recallScores, precisionScores, f1Scores"
      ],
      "execution_count": 5,
      "outputs": []
    },
    {
      "cell_type": "code",
      "metadata": {
        "id": "vApGqDdnX3Tx",
        "colab_type": "code",
        "colab": {}
      },
      "source": [
        "def funcPreprocessing(fncpDF):\n",
        "    \n",
        "    '''\n",
        "    This function\n",
        "    1) Removes leading and trailing white spaces in the column names.\n",
        "    2)Removes leading and trailing white spaces in the values present in object datatype columns.\n",
        "    \n",
        "    input\n",
        "        Dataframe\n",
        "    output\n",
        "        None\n",
        "    '''\n",
        "\n",
        "    dictCol = {}\n",
        "    print('Column preprocessing...')\n",
        "    for col in fncpDF.columns:\n",
        "        dictCol[col] = col.strip()\n",
        "    fncpDF.rename(columns=dictCol, inplace=True) \n",
        "    print('Object datatype preprocessing...\\n')\n",
        "    for col in fncpDF.columns:\n",
        "        if fncpDF[col].dtype == 'object':\n",
        "            fncpDF[col] = fncpDF[col].str.strip()\n",
        "    print('Sucessfully preprocessed the dataframe!')   "
      ],
      "execution_count": 36,
      "outputs": []
    },
    {
      "cell_type": "code",
      "metadata": {
        "id": "VUHkFd8eKKhO",
        "colab_type": "code",
        "colab": {}
      },
      "source": [
        "def fncpModelEvaluvate(fncpActual, fncpPredicted, fncpBoolHeatMap=False, fncpMultiClass=True,fncpAverageType='weighted'):\n",
        "  '''\n",
        "  This function prints the various evaluvation metric of a models and also prints the confusion matrix\n",
        "  input:\n",
        "    fncpActual - Actual Values\n",
        "    funPredictedValues - Predicted Values\n",
        "    (optional) (bool) fncpBoolHeatMap - To display or not display confusion matrix\n",
        "    (optional) (bool) fncpMultiClass - Is it a multiclass problem or binary class problem\n",
        "    (optional) (bool) fncpAverageType - Average type for multiclass problem   \n",
        "  '''\n",
        "\n",
        "  # Heat Map #\n",
        "  if  fncpBoolHeatMap == True:\n",
        "    cf_matrix = confusion_matrix(fncpActual, fncpPredicted)\n",
        "    make_confusion_matrix(cf_matrix, figsize=(8,6), cbar=True, cmap='BrBG')\n",
        "    print('\\n\\n')\n",
        "\n",
        "  print('Evaluation Metrics\\n')\n",
        "  # print(f'Accuracy Score :{round(accuracy_score(fncpActual, fncpPredicted)*100,2)}%')\n",
        "  if fncpMultiClass == True:\n",
        "    print(f'Recall Score :{round(recall_score(fncpActual, fncpPredicted, average=fncpAverageType)*100,2)}%')\n",
        "    print(f'Precision Score :{round(precision_score(fncpActual, fncpPredicted, average=fncpAverageType)*100,2)}%')\n",
        "    print(f'F1 Score :{round(f1_score(fncpActual, fncpPredicted, average=fncpAverageType)*100,2)}%')\n",
        "  else:\n",
        "    print(f'Recall Score :{round(recall_score(fncpActual, fncpPredicted)*100,2)}%')\n",
        "    print(f'Precision Score :{round(precision_score(fncpActual, fncpPredicted)*100,2)}%')\n",
        "    print(f'F1 Score :{round(f1_score(fncpActual, fncpPredicted)*100,2)}%')\n"
      ],
      "execution_count": 7,
      "outputs": []
    },
    {
      "cell_type": "code",
      "metadata": {
        "id": "wv21e8buG17f",
        "colab_type": "code",
        "colab": {}
      },
      "source": [
        "def funcFeatureImportance(fncpModel, fncpTrainSet, fncpCV=True):\n",
        "\n",
        "  '''\n",
        "  This function prints the top 20 and bottom 20 important features and returns an dataframe with important features sorted in descending order\n",
        "  input:\n",
        "    (model) fncpModel\n",
        "    (dataframe) fncpTrainSet\n",
        "    (optional) (bool) fncpCV\n",
        "  ouput:\n",
        "    dataframe\n",
        "  '''\n",
        "  if fncpCV == True:\n",
        "    feature_importances = pd.DataFrame(fncpModel.best_estimator_.feature_importances_,\n",
        "                                      index = fncpTrainSet.columns,\n",
        "                                        columns=['importance']).sort_values('importance', ascending=False)\n",
        "  else:\n",
        "    feature_importances = pd.DataFrame(fncpModel.feature_importances_,\n",
        "                              index = fncpTrainSet.columns,\n",
        "                                columns=['importance']).sort_values('importance', ascending=False)                         \n",
        "  print(\"Top 20 Important Feature\\n\")\n",
        "  print(feature_importances.head(20))\n",
        "  print('\\n')\n",
        "  print(\"Bottom 20 Important Feature\\n\")\n",
        "  print(feature_importances.tail(20))\n",
        "  return feature_importances"
      ],
      "execution_count": 8,
      "outputs": []
    },
    {
      "cell_type": "code",
      "metadata": {
        "id": "XINSFnBmX3Tz",
        "colab_type": "code",
        "colab": {}
      },
      "source": [
        "def funcDescription(fncpDF, fncpPrnt=False):\n",
        "    \n",
        "    '''\n",
        "    This function prints some of the general characterstics of the dataset and returns a list of tuples about the columns.\n",
        "    input: \n",
        "        DataFrame\n",
        "        (bool) (optional) To print or not\n",
        "    output: \n",
        "        List of general characterstics\n",
        "    '''\n",
        "    \n",
        "    lstTemp = []\n",
        "    for col in tqdm(fncpDF.columns):\n",
        "        if fncpDF[col].dtype == 'object':\n",
        "            colUniqueValue = fncpDF[col].nunique()\n",
        "            colMax = 0\n",
        "            colMin = 0\n",
        "            colMean = 0\n",
        "            colType = 'object'\n",
        "            lstTemp.append((col.strip(), colUniqueValue, colMax,colMin,round((fncpDF[col].isna().sum()/ROWS)*100, 2), colType))\n",
        "        else:\n",
        "            colUniqueValue = 0\n",
        "            colMax = fncpDF[col].max()\n",
        "            colMin = fncpDF[col].min()\n",
        "            colMean = round(fncpDF[col].mean(),2)\n",
        "            colType = 'float'\n",
        "            lstTemp.append((col, colUniqueValue, colMax,colMin,round((fncpDF[col].isna().sum()/ROWS)*100, 2), colType))           \n",
        "    lstTemp = sorted(lstTemp, key=lambda x: x[4], reverse=True)\n",
        "    if fncpPrnt:\n",
        "        print(f'Total no of rows : {fncpDF.shape[0]} \\nTotal no of columns : {fncpDF.shape[1]}')\n",
        "        totalNaNRows = fncpDF[fncpDF.isna().any(axis=1)].shape[0]\n",
        "        print(f'Rows with atleast one of the columns with a NaN value : {totalNaNRows}')\n",
        "        print('\\n')\n",
        "        for item in lstTemp:\n",
        "            print(f'------------------- {item[0]}-------------------')\n",
        "            print(f'Unique values in column : {item[1]}')\n",
        "            print(f'Max value in column : {item[2]}')\n",
        "            print(f'Min value in column : {item[3]}')\n",
        "            print(f'Mean Value in column : {item[4]}')\n",
        "            print('\\n')\n",
        "    return lstTemp"
      ],
      "execution_count": 9,
      "outputs": []
    },
    {
      "cell_type": "code",
      "metadata": {
        "id": "LPKVQ1wpX3T1",
        "colab_type": "code",
        "colab": {}
      },
      "source": [
        "### Date preprocessing ###\n",
        "\n",
        "def funcDateManipulation(fncpDF, fncpColName, funcStartsWith='00'):\n",
        "    '''\n",
        "    The expected date format is yyyy-mm-dd but few of the dates are not in this format. This function changes the value to the / \n",
        "    specified format. The startsWith searches for all the dates that begin with 00 and modifies them into the required format.\n",
        "    \n",
        "    input: \n",
        "        DataFrame\n",
        "        (str) fncpColName, \n",
        "        (str) (optional) funcStartsWith\n",
        "    output: \n",
        "        None\n",
        "    '''\n",
        "    print(f'Processing column {fncpColName}....')\n",
        "    lstTemp = fncpDF.loc[fncpDF[fncpColName].str.startswith(funcStartsWith, na=False), [fncpColName]].values.tolist()\n",
        "    print(lstTemp)\n",
        "    for dte in lstTemp:\n",
        "        year = str(dte[0][-2:])\n",
        "        month = str(dte[0][5:7])\n",
        "        day = str(dte[0][2:4])\n",
        "        newDate = '20'+year+'-'+month+'-'+day\n",
        "        fncpDF.loc[fncpDF[fncpColName].str.contains(dte[0], na=False),[fncpColName]] = newDate\n",
        "    print(f'Sucessfully changed the date for {fncpColName} variable')"
      ],
      "execution_count": 10,
      "outputs": []
    },
    {
      "cell_type": "code",
      "metadata": {
        "id": "IihW-ZBIX3T6",
        "colab_type": "code",
        "colab": {}
      },
      "source": [
        "def funcCustomOneHotEncode(fncpDF, fncpColName,fncpTop=5, fncpBottom=5, fncpMiddle=10, fncpDropOriginal=True):\n",
        "    \n",
        "    '''\n",
        "    This function takes the fncpTop, fncpMiddledle and fncpBottom most occuring values in a feature and one hot encodes the values.\n",
        "    input: \n",
        "        DataFrame, \n",
        "        (str) Variable/Feature,\n",
        "        (int) (optional) fncpTop n categories, \n",
        "        (int) (optional) fncpBottom n categories, \n",
        "        (int) (optional) fncpMiddle n categories, \n",
        "        (bool) (optional) To drop original variable\n",
        "    output: \n",
        "        1 (Success) \n",
        "        -1 (Failure)\n",
        "    '''\n",
        "    \n",
        "    if fncpColName not in fncpDF.columns:\n",
        "        return -1\n",
        "    \n",
        "    uniqueMarketsCount = len(fncpDF[fncpColName].unique())\n",
        "    print(f'There are in total {uniqueMarketsCount} unique categories in {fncpColName} feature \\n')\n",
        "\n",
        "    # Top X\n",
        "    listfncpTopXCategories = []\n",
        "    listfncpTopXCategories = fncpDF[fncpColName].value_counts().sort_values(ascending = False).head(fncpTop).index.tolist()\n",
        "    if 'Unknown' in listfncpTopXCategories:\n",
        "        listfncpTopXCategories = fncpDF[fncpColName].value_counts().sort_values(ascending = False).head(fncpTop + 1).index.tolist()\n",
        "        listfncpTopXCategories.remove('Unknown') # Removing the 'Unknown' market since it is a imputed value\n",
        "    print(f'fncpTop {len(listfncpTopXCategories)} markets are:\\n ')\n",
        "    print({*listfncpTopXCategories}, sep = \", \")\n",
        "\n",
        "    # Mid X\n",
        "    listfncpMiddleXCategories = []\n",
        "    startPos = int(uniqueMarketsCount/2)\n",
        "    endPos = startPos + fncpMiddle\n",
        "    listfncpMiddleXCategories = fncpDF[fncpColName].value_counts().sort_values(ascending = True)[startPos:endPos].index.tolist()\n",
        "    if 'Unknown' in listfncpMiddleXCategories:\n",
        "        listfncpMiddleXCategories = fncpDF[fncpColName].value_counts().sort_values(ascending = True)[startPos:endPos + 1].index.tolist()        \n",
        "        listfncpMiddleXCategories.remove('Unknown') # Removing the 'Unknown' market since it is a imputed value\n",
        "    print(f'\\nfncpMiddle {len(listfncpMiddleXCategories)} markets are:\\n ')\n",
        "    print({*listfncpMiddleXCategories}, sep = \", \")\n",
        "\n",
        "    # Bottom X\n",
        "    listfncpBottomXCategories = []\n",
        "    listfncpBottomXCategories = fncpDF[fncpColName].value_counts().sort_values(ascending = True).head(fncpBottom).index.tolist()\n",
        "    if 'Unknown' in listfncpTopXCategories:\n",
        "        listfncpBottomXCategories = fncpDF[fncpColName].value_counts().sort_values(ascending = True).head(fncpBottom + 1).index.tolist()\n",
        "        listfncpBottomXCategories.remove('Unknown') # Removing the 'Unknown' market since it is a imputed value\n",
        "    print(f'\\nfncpBottom {len(listfncpBottomXCategories)} markets are:\\n ')\n",
        "    print({*listfncpBottomXCategories}, sep = \", \")\n",
        "\n",
        "    listFinalXCategories = listfncpTopXCategories + listfncpMiddleXCategories + listfncpBottomXCategories\n",
        "    for label in listFinalXCategories:\n",
        "      fncpDF['f_'+fncpColName+'_'+label] = np.where(fncpDF[fncpColName] == label,1,0)\n",
        "    \n",
        "    if fncpDropOriginal == True:\n",
        "        fncpDF.drop(fncpColName, axis=1, inplace=True)\n",
        "    print(f'Sucessfully implemented custom one hot encoding for {fncpColName} variable...')\n",
        "    return listFinalXCategories"
      ],
      "execution_count": 11,
      "outputs": []
    },
    {
      "cell_type": "code",
      "metadata": {
        "id": "bHeUpOrdX3T8",
        "colab_type": "code",
        "colab": {}
      },
      "source": [
        "def funcColumnsToDrop(fncpDF, fncpLstColToDrop = []):\n",
        "    \n",
        "    '''\n",
        "    This function drops a list of column(s) in the dataframe and returns the new unique columns in the dataframe\n",
        "    input: Dataframe, list of coulumns to drop\n",
        "    output: list of new columns (Sucess) / -1 (Failure)\n",
        "    '''\n",
        "    \n",
        "    if len(fncpLstColToDrop) > 0 and set(fncpLstColToDrop).issubset(fncpDF.columns):\n",
        "        fncpDF.drop(fncpLstColToDrop, axis=1, inplace=True) \n",
        "        return fncpDF.columns\n",
        "    else:\n",
        "        print('No columns to drop or one of the columns present in the list is not available in the dataframe')\n",
        "        return -1"
      ],
      "execution_count": 12,
      "outputs": []
    },
    {
      "cell_type": "code",
      "metadata": {
        "id": "KVIi97UlhXyz",
        "colab_type": "code",
        "colab": {}
      },
      "source": [
        "def funcHeatMap(funcpX, funcpY, funcpSize):\n",
        "  '''\n",
        "  This function creates a custom heatmap.\n",
        "  Please refer https://towardsdatascience.com/better-heatmaps-and-correlation-matrix-plots-in-python-41445d0f2bec for in depth explanation of this function.\n",
        "  '''\n",
        "\n",
        "  fig, ax = plt.subplots()\n",
        "  \n",
        "  # Mapping from column names to integer coordinates\n",
        "  x_labels = [v for v in sorted(funcpX.unique())]\n",
        "  y_labels = [v for v in sorted(funcpY.unique())]\n",
        "  x_to_num = {p[1]:p[0] for p in enumerate(x_labels)} \n",
        "  y_to_num = {p[1]:p[0] for p in enumerate(y_labels)} \n",
        "  \n",
        "  size_scale = 270\n",
        "  ax.scatter(\n",
        "      x=funcpX.map(x_to_num), # Use mapping for x\n",
        "      y=funcpY.map(y_to_num), # Use mapping for y\n",
        "      s=funcpSize * size_scale, # Vector of square sizes, proportional to size parameter \n",
        "      c='green',\n",
        "      alpha=0.8,\n",
        "      marker='s' # Use square as scatterplot marker\n",
        "  )\n",
        "  \n",
        "  # Show column labels on the axes\n",
        "  ax.set_xticks([x_to_num[v] for v in x_labels])\n",
        "  listTempXLabel = [name.replace('_', ' ') for name in x_labels]\n",
        "  ax.set_xticklabels(listTempXLabel, rotation=90, horizontalalignment='right')\n",
        "  ax.set_yticks([y_to_num[v] for v in y_labels])\n",
        "  listTempYLabel = [name.replace('_', ' ') for name in y_labels]\n",
        "  ax.set_yticklabels(listTempYLabel)\n",
        "  ax.tick_params(axis='x', colors='white',labelsize=12)\n",
        "  ax.tick_params(axis='y', colors='white')\n",
        "  ax.grid(False, 'major')\n",
        "  ax.grid(True, 'minor')\n",
        "  ax.set_xticks([t + 0.5 for t in ax.get_xticks()], minor=True)\n",
        "  ax.set_yticks([t + 0.5 for t in ax.get_yticks()], minor=True)\n",
        "  ax.set_xlim([-0.5, max([v for v in x_to_num.values()]) + 0.5]) \n",
        "  ax.set_ylim([-0.5, max([v for v in y_to_num.values()]) + 0.5])"
      ],
      "execution_count": 27,
      "outputs": []
    },
    {
      "cell_type": "markdown",
      "metadata": {
        "id": "B8WgbDhLX3UB",
        "colab_type": "text"
      },
      "source": [
        "# Data Preprocessing"
      ]
    },
    {
      "cell_type": "markdown",
      "metadata": {
        "id": "M1fALi1Hx3P1",
        "colab_type": "text"
      },
      "source": [
        "#### Strippping white spaces"
      ]
    },
    {
      "cell_type": "code",
      "metadata": {
        "scrolled": false,
        "id": "kStgq7y1X3UF",
        "colab_type": "code",
        "colab": {
          "base_uri": "https://localhost:8080/",
          "height": 85
        },
        "outputId": "2846bbd7-e98c-4972-dd90-f1d62f6a9cae"
      },
      "source": [
        "### Renaming the columns to remove the white spaces ###    \n",
        "dfProcessed = MAINDF.copy()\n",
        "funcPreprocessing(dfProcessed)\n",
        "LISTCOLUMNNAME = dfProcessed.columns"
      ],
      "execution_count": 62,
      "outputs": [
        {
          "output_type": "stream",
          "text": [
            "Column preprocessing...\n",
            "Object datatype preprocessing...\n",
            "\n",
            "Sucessfully preprocessed the dataframe!\n"
          ],
          "name": "stdout"
        }
      ]
    },
    {
      "cell_type": "markdown",
      "metadata": {
        "id": "epx11n7sZdc4",
        "colab_type": "text"
      },
      "source": [
        "#### Dropping Rows and Columns ###\n"
      ]
    },
    {
      "cell_type": "code",
      "metadata": {
        "id": "Bnt07huOYoPl",
        "colab_type": "code",
        "colab": {
          "base_uri": "https://localhost:8080/",
          "height": 34
        },
        "outputId": "e91d68e4-769f-4357-c4e5-8148d580310b"
      },
      "source": [
        "### Checking and deleting rows where all the values are NaN ###\n",
        "\n",
        "allNAValues = dfProcessed[dfProcessed.isna().all(axis=1)].shape[0]\n",
        "print(f'There are {allNAValues} rows that have only NaN as values')\n",
        "dfProcessed = dfProcessed.dropna(how='all')\n",
        "dfProcessed = dfProcessed.reset_index(drop=True)"
      ],
      "execution_count": 63,
      "outputs": [
        {
          "output_type": "stream",
          "text": [
            "There are 4856 rows that have only NaN as values\n"
          ],
          "name": "stdout"
        }
      ]
    },
    {
      "cell_type": "code",
      "metadata": {
        "id": "nv40BPPTmT50",
        "colab_type": "code",
        "colab": {
          "base_uri": "https://localhost:8080/",
          "height": 34
        },
        "outputId": "e90f0335-22e9-463f-a69a-7558c26d0f41"
      },
      "source": [
        "### Checking duplicate records in a dataframe ###\n",
        "\n",
        "duplicateRecords = dfProcessed[dfProcessed.duplicated()].shape[0]\n",
        "if duplicateRecords == 0:\n",
        "  print(f'There are {duplicateRecords} duplicate records in the dataframe')\n",
        "else:\n",
        "  print(f'{duplicateRecords} duplicate records are dropped from the dataframe')\n",
        "  dfProcessed = dfProcessed[~dfProcessed.duplicated()]"
      ],
      "execution_count": 64,
      "outputs": [
        {
          "output_type": "stream",
          "text": [
            "There are 0 duplicate records in the dataframe\n"
          ],
          "name": "stdout"
        }
      ]
    },
    {
      "cell_type": "code",
      "metadata": {
        "id": "b3ARZoHQYonz",
        "colab_type": "code",
        "colab": {
          "base_uri": "https://localhost:8080/",
          "height": 34
        },
        "outputId": "42306d7e-bc75-4489-bf2b-1260d6d86d10"
      },
      "source": [
        "### Dropping rows where target variable 'status' is NaN ### \n",
        "\n",
        "targetNAValues = dfProcessed.loc[dfProcessed['status'].isna() == True,].shape[0]\n",
        "print(f'There are {targetNAValues} rows for which target variable has NaN as values')\n",
        "dfProcessed = dfProcessed.loc[dfProcessed['status'].isna() == False,]"
      ],
      "execution_count": 65,
      "outputs": [
        {
          "output_type": "stream",
          "text": [
            "There are 1314 rows for which target variable has NaN as values\n"
          ],
          "name": "stdout"
        }
      ]
    },
    {
      "cell_type": "code",
      "metadata": {
        "id": "QMFy2vygYpQ8",
        "colab_type": "code",
        "colab": {
          "base_uri": "https://localhost:8080/",
          "height": 105
        },
        "outputId": "3eeb3cd8-365c-4ea0-d99a-5b78f5ae3aaa"
      },
      "source": [
        "### Removing the rows for which we dont have total funding and the breakup of the funding is null as well ###\n",
        "\n",
        "print('The list of variables associated with funding are \\n', LISTFUNDINGCOL)\n",
        "dfProcessed['f_SumCol'] = dfProcessed[LISTFUNDINGCOL].sum(axis = 1)\n",
        "rowsTotalSumCheck = dfProcessed.loc[(dfProcessed['funding_total_usd'] == '-'),['funding_total_usd']].shape[0]\n",
        "print(f'There are {rowsTotalSumCheck} rows whose total funding is none (\"-\")')\n",
        "rowsTotalSumCheck = dfProcessed.loc[(dfProcessed['funding_total_usd'] == '-') & (dfProcessed['f_SumCol'] > 0),].shape[0]\n",
        "print(f'There are {rowsTotalSumCheck} rows whose total funding is none but sum of the total funding is more than zero')\n",
        "\n",
        "### Selecting only the rows for which the variable funding_total_usd is not equal to '-' ###\n",
        "dfProcessed = dfProcessed.loc[~(dfProcessed['funding_total_usd'] == '-'),]"
      ],
      "execution_count": 66,
      "outputs": [
        {
          "output_type": "stream",
          "text": [
            "The list of variables associated with funding are \n",
            " ['seed', 'venture', 'equity_crowdfunding', 'undisclosed', 'convertible_note', 'debt_financing', 'grant', 'private_equity', 'post_ipo_equity', 'post_ipo_debt', 'secondary_market', 'product_crowdfunding', 'round_A', 'round_B', 'round_C', 'round_D', 'round_E', 'round_F', 'round_G', 'round_H']\n",
            "There are 8322 rows whose total funding is none (\"-\")\n",
            "There are 0 rows whose total funding is none but sum of the total funding is more than zero\n"
          ],
          "name": "stdout"
        }
      ]
    },
    {
      "cell_type": "code",
      "metadata": {
        "id": "PG6srWkZYp9c",
        "colab_type": "code",
        "colab": {
          "base_uri": "https://localhost:8080/",
          "height": 68
        },
        "outputId": "a86bdb34-f176-4456-b794-bb17e93dfe37"
      },
      "source": [
        "# ### ROWS WITH HIGH NaN percetage ###\n",
        "\n",
        "lstHighNanRow = []\n",
        "for i in tqdm(range(len(dfProcessed.index)), desc='Rows processed'):\n",
        "    temp = round((dfProcessed.iloc[i].isnull().sum()/dfProcessed.shape[1])*100,2)\n",
        "    if temp >= 80:\n",
        "      lstHighNanRow.append(i)\n",
        "print(f'\\nNumber of rows deleted is {len(lstHighNanRow)}')\n",
        "dfProcessed = dfProcessed.drop(dfProcessed.index[lstHighNanRow])"
      ],
      "execution_count": 67,
      "outputs": [
        {
          "output_type": "stream",
          "text": [
            "Rows processed: 100%|██████████| 39802/39802 [00:19<00:00, 2041.39it/s]"
          ],
          "name": "stderr"
        },
        {
          "output_type": "stream",
          "text": [
            "\n",
            "Number of rows deleted is 0\n"
          ],
          "name": "stdout"
        },
        {
          "output_type": "stream",
          "text": [
            "\n"
          ],
          "name": "stderr"
        }
      ]
    },
    {
      "cell_type": "code",
      "metadata": {
        "id": "fNz-YDNZYo1-",
        "colab_type": "code",
        "colab": {}
      },
      "source": [
        "### Removing permalink and name since this would not contribute to the model ###\n",
        "\n",
        "lstDropColumns = ['permalink', 'name']\n",
        "LISTCOLUMNNAME = funcColumnsToDrop(dfProcessed, lstDropColumns)"
      ],
      "execution_count": 68,
      "outputs": []
    },
    {
      "cell_type": "code",
      "metadata": {
        "id": "W6-fkOYdZJs5",
        "colab_type": "code",
        "colab": {
          "base_uri": "https://localhost:8080/",
          "height": 357
        },
        "outputId": "2d100e19-ad4c-4fb9-ff79-0fdf2566eab9"
      },
      "source": [
        "### Dropping region based columns ###\n",
        "\n",
        "# Replacing Nan with 'Unknown' where all the region based columns have NaN values \n",
        "lstcolumns = ['country_code', 'state_code','region', 'city']\n",
        "dfProcessed.loc[(dfProcessed[lstcolumns].isna().all(axis=1) == True), lstcolumns] = 'Unknown'\n",
        "\n",
        "txt = 'Total Null values is '\n",
        "print('country_code')\n",
        "print(txt, dfProcessed[ 'country_code'].isnull().sum())\n",
        "print('\\n')\n",
        "print('state_code')\n",
        "print(txt, dfProcessed[ 'state_code'].isnull().sum())\n",
        "print('\\n')\n",
        "print('region')\n",
        "print(txt, dfProcessed[ 'region'].isnull().sum())\n",
        "print('\\n')\n",
        "print('city')\n",
        "print(txt, dfProcessed[ 'city'].isnull().sum())\n",
        "print('\\n')\n",
        "\n",
        "print(dfProcessed.loc[(dfProcessed['state_code'].isnull() == False), lstcolumns]['country_code'].value_counts())\n",
        "\n",
        "# Since the state_code has the maximum number of null values and remaing non-null values belong to US and Canada,\n",
        "# we will be removing the state_code variable\n",
        "\n",
        "lstDropColumns = ['state_code']\n",
        "LISTCOLUMNNAME = funcColumnsToDrop(dfProcessed, lstDropColumns)"
      ],
      "execution_count": 69,
      "outputs": [
        {
          "output_type": "stream",
          "text": [
            "country_code\n",
            "Total Null values is  0\n",
            "\n",
            "\n",
            "state_code\n",
            "Total Null values is  11039\n",
            "\n",
            "\n",
            "region\n",
            "Total Null values is  0\n",
            "\n",
            "\n",
            "city\n",
            "Total Null values is  635\n",
            "\n",
            "\n",
            "USA        23995\n",
            "Unknown     3663\n",
            "CAN         1105\n",
            "Name: country_code, dtype: int64\n"
          ],
          "name": "stdout"
        }
      ]
    },
    {
      "cell_type": "code",
      "metadata": {
        "id": "N1QHB1mmZJ-j",
        "colab_type": "code",
        "colab": {
          "base_uri": "https://localhost:8080/",
          "height": 34
        },
        "outputId": "3bcacecf-dff1-4a59-dc8b-4786222dc404"
      },
      "source": [
        "### Dropping City column ###\n",
        "\n",
        "uniqueCityCount = len(dfProcessed['city'].unique())\n",
        "uniqueRatioPercent = round(uniqueCityCount/len(dfProcessed['city'])*100,2)\n",
        "print(f'There are {uniqueCityCount} unique cities and hence dropping the column since uniquness ratio is low ({uniqueRatioPercent})')\n",
        "lstDropColumns = ['city']\n",
        "LISTCOLUMNNAME = funcColumnsToDrop(dfProcessed, lstDropColumns)"
      ],
      "execution_count": 70,
      "outputs": [
        {
          "output_type": "stream",
          "text": [
            "There are 3536 unique cities and hence dropping the column since uniquness ratio is low (8.88)\n"
          ],
          "name": "stdout"
        }
      ]
    },
    {
      "cell_type": "code",
      "metadata": {
        "id": "TF3jjPkOYpfu",
        "colab_type": "code",
        "colab": {}
      },
      "source": [
        "### Removing funding_total_usd since this is just an addition of all the funding columns###\n",
        "\n",
        "lstDropColumns = ['funding_total_usd'] #, 'f_SumCol']\n",
        "LISTCOLUMNNAME = funcColumnsToDrop(dfProcessed, lstDropColumns)\n",
        "\n",
        "### Combining Seed investment and Angel Investment into one since both are the same.\n",
        "\n",
        "dfProcessed['seed'] = dfProcessed['seed'] + dfProcessed['angel']\n",
        "lstDropColumns = ['angel']\n",
        "LISTCOLUMNNAME = funcColumnsToDrop(dfProcessed, lstDropColumns)"
      ],
      "execution_count": 71,
      "outputs": []
    },
    {
      "cell_type": "markdown",
      "metadata": {
        "id": "-eXIFxNnMSMh",
        "colab_type": "text"
      },
      "source": [
        "# Exploratory Data Analysis\n",
        "\n"
      ]
    },
    {
      "cell_type": "code",
      "metadata": {
        "id": "ytxR5C-nYYkg",
        "colab_type": "code",
        "colab": {
          "base_uri": "https://localhost:8080/",
          "height": 34
        },
        "outputId": "d979b47c-52c7-4920-9bd1-99cb0ac933d2"
      },
      "source": [
        "listColCharacterstics = funcDescription(MAINDF, fncpPrnt=False)"
      ],
      "execution_count": 72,
      "outputs": [
        {
          "output_type": "stream",
          "text": [
            "100%|██████████| 39/39 [00:00<00:00, 284.31it/s]\n"
          ],
          "name": "stderr"
        }
      ]
    },
    {
      "cell_type": "code",
      "metadata": {
        "id": "44Un5AuhMS9x",
        "colab_type": "code",
        "colab": {
          "base_uri": "https://localhost:8080/",
          "height": 353
        },
        "outputId": "0f5d5e28-e9c6-4e2f-a661-2beb7d52ab2c"
      },
      "source": [
        "### Imbalanced Dataset ###\n",
        "\n",
        "\n",
        "plt.figure(figsize = (10,5), facecolor = 'black', dpi=70) \n",
        "sns.set(rc={'axes.facecolor':'black', \n",
        "            'figure.facecolor':'black', \n",
        "            'axes.spines.top': False\n",
        "\n",
        "            })\n",
        "ax = dfProcessed['status'].value_counts(dropna = False).plot(kind='bar', color = 'green', alpha = 0.8)\n",
        "ax.set_xlabel('')\n",
        "ax.set_ylabel('CATEGORYWISE COUNT')\n",
        "ax.set()\n",
        "ax.yaxis.label.set_color('white')\n",
        "ax.xaxis.label.set_color('white')\n",
        "ax.tick_params(axis='x', colors='white',labelsize=12)\n",
        "ax.tick_params(axis='y', colors='white',labelsize=12)\n",
        "ax.tick_params(axis='y', colors='white')\n",
        "sns.despine()\n",
        "plt.xticks(rotation=45)\n",
        "plt.show()"
      ],
      "execution_count": 73,
      "outputs": [
        {
          "output_type": "display_data",
          "data": {
            "image/png": "[encoded data removed]",
            "text/plain": [
              "<Figure size 700x350 with 1 Axes>"
            ]
          },
          "metadata": {
            "tags": []
          }
        }
      ]
    },
    {
      "cell_type": "code",
      "metadata": {
        "id": "7KQ-JMUOUhrm",
        "colab_type": "code",
        "colab": {
          "base_uri": "https://localhost:8080/",
          "height": 1000
        },
        "outputId": "19deb2c0-848b-4cfd-8398-6c1035dd6ecb"
      },
      "source": [
        "### Status VS Fundings ###\n",
        "\n",
        "print(LISTFUNDINGCOL)\n",
        "\n",
        "fig = plt.figure(figsize = (21,21), facecolor = 'black', dpi=70) \n",
        "\n",
        "for c,num in zip(LISTFUNDINGCOL, range(1,22)):\n",
        "  ax = fig.add_subplot(7,3,num)\n",
        "  x = np.random.rand()\n",
        "  y = np.random.rand()\n",
        "  z = np.random.rand()\n",
        "  ax =  dfProcessed.groupby('status')[c].agg('mean').plot(kind='bar',alpha = .8, color=(x,y,z))\n",
        "\n",
        "  ax.set_xlabel('')\n",
        "  temp = 'Median \"' + c.replace('_',' ') + '\" value'\n",
        "  ax.set_ylabel(temp)\n",
        "  ax.set_title('')\n",
        "  ax.xaxis.label.set_color('white')\n",
        "  ax.yaxis.label.set_color('white')\n",
        "  ax.tick_params(axis='x', colors='white',labelsize=12)\n",
        "  ax.tick_params(axis='y', colors='white')\n",
        "  sns.despine()\n",
        "  plt.xticks(rotation=45)\n",
        "\n",
        "plt.tight_layout()\n",
        "plt.subplots_adjust(hspace=0.7, wspace = 0.5)"
      ],
      "execution_count": 74,
      "outputs": [
        {
          "output_type": "stream",
          "text": [
            "['seed', 'venture', 'equity_crowdfunding', 'undisclosed', 'convertible_note', 'debt_financing', 'grant', 'private_equity', 'post_ipo_equity', 'post_ipo_debt', 'secondary_market', 'product_crowdfunding', 'round_A', 'round_B', 'round_C', 'round_D', 'round_E', 'round_F', 'round_G', 'round_H']\n"
          ],
          "name": "stdout"
        },
        {
          "output_type": "display_data",
          "data": {
            "image/png": "[encoded data removed]",
            "text/plain": [
              "<Figure size 1470x1470 with 20 Axes>"
            ]
          },
          "metadata": {
            "tags": []
          }
        }
      ]
    },
    {
      "cell_type": "code",
      "metadata": {
        "id": "W5qDjPMPmsZC",
        "colab_type": "code",
        "colab": {
          "base_uri": "https://localhost:8080/",
          "height": 607
        },
        "outputId": "a744005e-09b3-4cf7-a6e0-00b2ee6de532"
      },
      "source": [
        "### Correlation HeatMap ###\n",
        "\n",
        "listTempCol = LISTFUNDINGCOL.copy()\n",
        "listTempCol.append('funding_rounds')\n",
        "corr = dfProcessed[listTempCol].corr()\n",
        "corr = pd.melt(corr.reset_index(), id_vars='index') # Unpivot the dataframe, so we can get pair of arrays for x and y\n",
        "corr.columns = ['x', 'y', 'value']\n",
        "funcHeatMap(\n",
        "    funcpX=corr['x'],\n",
        "    funcpY=corr['y'],\n",
        "    funcpSize=corr['value'].abs()\n",
        ")"
      ],
      "execution_count": 75,
      "outputs": [
        {
          "output_type": "display_data",
          "data": {
            "image/png": "[encoded data removed]",
            "text/plain": [
              "<Figure size 864x576 with 1 Axes>"
            ]
          },
          "metadata": {
            "tags": []
          }
        }
      ]
    },
    {
      "cell_type": "markdown",
      "metadata": {
        "scrolled": true,
        "id": "83W8_BvKX3Ur",
        "colab_type": "text"
      },
      "source": [
        "# Feature Engineering"
      ]
    },
    {
      "cell_type": "markdown",
      "metadata": {
        "id": "gZteYBaZX3Ur",
        "colab_type": "text"
      },
      "source": [
        "#### Date variable\n"
      ]
    },
    {
      "cell_type": "code",
      "metadata": {
        "id": "Xm0zFkpgX3Us",
        "colab_type": "code",
        "colab": {
          "base_uri": "https://localhost:8080/",
          "height": 34
        },
        "outputId": "1c4d9ba0-f033-4390-d9ec-eb54d1d0aee2"
      },
      "source": [
        "### Found out while converting the object type to date type ###\n",
        "\n",
        "wrongDateCount = dfProcessed.loc[dfProcessed['founded_at'].str.contains('1636', na=False),].shape[0]\n",
        "print(f'There are {wrongDateCount} record(s) whose year is 1636')\n",
        "dfProcessed = dfProcessed.loc[~dfProcessed['founded_at'].str.contains('1636', na=False),]"
      ],
      "execution_count": 76,
      "outputs": [
        {
          "output_type": "stream",
          "text": [
            "There are 1 record(s) whose year is 1636\n"
          ],
          "name": "stdout"
        }
      ]
    },
    {
      "cell_type": "code",
      "metadata": {
        "scrolled": false,
        "id": "0DBG43nXX3Uw",
        "colab_type": "code",
        "colab": {
          "base_uri": "https://localhost:8080/",
          "height": 323
        },
        "outputId": "cbbab9b6-7039-43a7-adeb-22d44042e20a"
      },
      "source": [
        "### List of years starting with '00'. This was found while trying to convert the the column datatyp to datetime ###\n",
        "\n",
        "print(dfProcessed.loc[dfProcessed['first_funding_at'].str.startswith('00', na=False), ['first_funding_at']])\n",
        "print('\\n')\n",
        "funcDateManipulation(dfProcessed, 'first_funding_at')\n",
        "print('\\n')\n",
        "print(dfProcessed.loc[dfProcessed['last_funding_at'].str.startswith('00', na=False), ['last_funding_at']])\n",
        "print('\\n')\n",
        "funcDateManipulation(dfProcessed, 'last_funding_at')"
      ],
      "execution_count": 77,
      "outputs": [
        {
          "output_type": "stream",
          "text": [
            "      first_funding_at\n",
            "29695       0007-05-13\n",
            "37313       0011-11-14\n",
            "\n",
            "\n",
            "Processing column first_funding_at....\n",
            "[['0007-05-13'], ['0011-11-14']]\n",
            "Sucessfully changed the date for first_funding_at variable\n",
            "\n",
            "\n",
            "Empty DataFrame\n",
            "Columns: [last_funding_at]\n",
            "Index: []\n",
            "\n",
            "\n",
            "Processing column last_funding_at....\n",
            "[]\n",
            "Sucessfully changed the date for last_funding_at variable\n"
          ],
          "name": "stdout"
        }
      ]
    },
    {
      "cell_type": "code",
      "metadata": {
        "id": "TVMqRG9vjyVg",
        "colab_type": "code",
        "colab": {
          "base_uri": "https://localhost:8080/",
          "height": 34
        },
        "outputId": "5f7c5106-0082-42f7-8113-55fe8453b254"
      },
      "source": [
        "# ## Found out while converting the object type to date type ###\n",
        "\n",
        "dfProcessed.loc[dfProcessed['first_funding_at'].str.contains('201-01-01', na=False),['first_funding_at']] = '2010-01-01'\n",
        "dfProcessed.loc[dfProcessed['last_funding_at'].str.contains('201-01-01', na=False),['last_funding_at']] = '2010-01-01'\n",
        "print('Date sucessfully changed')"
      ],
      "execution_count": 78,
      "outputs": [
        {
          "output_type": "stream",
          "text": [
            "Date sucessfully changed\n"
          ],
          "name": "stdout"
        }
      ]
    },
    {
      "cell_type": "code",
      "metadata": {
        "id": "Lm3o7JPHX3U5",
        "colab_type": "code",
        "colab": {}
      },
      "source": [
        "### Changing object type to date type ###\n",
        "\n",
        "dfProcessed['founded_at'] = dfProcessed['founded_at'].astype('datetime64[ns]')\n",
        "dfProcessed['first_funding_at'] = dfProcessed['first_funding_at'].astype('datetime64[ns]')\n",
        "dfProcessed['last_funding_at'] = dfProcessed['last_funding_at'].astype('datetime64[ns]')"
      ],
      "execution_count": 79,
      "outputs": []
    },
    {
      "cell_type": "markdown",
      "metadata": {
        "id": "ggq64p3aX3U7",
        "colab_type": "text"
      },
      "source": [
        "#### Market variable"
      ]
    },
    {
      "cell_type": "code",
      "metadata": {
        "id": "vKgULyghX3U8",
        "colab_type": "code",
        "colab": {
          "base_uri": "https://localhost:8080/",
          "height": 34
        },
        "outputId": "3c091495-f6e1-40df-bd35-fdeacaba40a9"
      },
      "source": [
        "### Market variable ###\n",
        " \n",
        "dfProcessed['market'] = dfProcessed['market'].str.strip() \n",
        "marketNAValues = dfProcessed.loc[(dfProcessed['market'].isna() == True),].shape[0]\n",
        "print(f'There are in total {marketNAValues} rows for which the market has NaN value')\n",
        "dfProcessed.loc[(dfProcessed['market'].isna() == True),['market']] = 'Unknown' # Replacing NaN as UnKnown"
      ],
      "execution_count": 80,
      "outputs": [
        {
          "output_type": "stream",
          "text": [
            "There are in total 2215 rows for which the market has NaN value\n"
          ],
          "name": "stdout"
        }
      ]
    },
    {
      "cell_type": "code",
      "metadata": {
        "scrolled": true,
        "id": "yA-Je_tCX3U_",
        "colab_type": "code",
        "colab": {
          "base_uri": "https://localhost:8080/",
          "height": 255
        },
        "outputId": "ae814652-9147-4cd9-98fb-c5d67ce15e11"
      },
      "source": [
        "### Market variable selecting only top 5, bottom 5 and mid 10 and one-hot encoding###\n",
        "\n",
        "market_variableOneHotCol = funcCustomOneHotEncode(dfProcessed, 'market')"
      ],
      "execution_count": 81,
      "outputs": [
        {
          "output_type": "stream",
          "text": [
            "There are in total 735 unique categories in market feature \n",
            "\n",
            "fncpTop 5 markets are:\n",
            " \n",
            "{'Biotechnology', 'E-Commerce', 'Software', 'Mobile', 'Curated Web'}\n",
            "\n",
            "fncpMiddle 10 markets are:\n",
            " \n",
            "{'3D Printing', 'Oil and Gas', 'Shipping', 'Identity Management', 'Polling', 'Product Design', 'Law Enforcement', 'Unifed Communications', 'Cooking', 'Computer Vision'}\n",
            "\n",
            "fncpBottom 5 markets are:\n",
            " \n",
            "{'Film Distribution', 'Fuels', 'Remediation', 'RIM', 'Timeshares'}\n",
            "Sucessfully implemented custom one hot encoding for market variable...\n"
          ],
          "name": "stdout"
        }
      ]
    },
    {
      "cell_type": "markdown",
      "metadata": {
        "id": "-RFCfOGMX3VD",
        "colab_type": "text"
      },
      "source": [
        "#### Region Variables"
      ]
    },
    {
      "cell_type": "code",
      "metadata": {
        "id": "7ikdjsFWX3VE",
        "colab_type": "code",
        "colab": {
          "base_uri": "https://localhost:8080/",
          "height": 255
        },
        "outputId": "bd9b82d7-be0b-491c-d36c-17e35d286292"
      },
      "source": [
        "### country_code variable selecting only top 5, bottom 5 and mid 10 and one-hot encoding###\n",
        "\n",
        "country_code_variableOneHotCol = funcCustomOneHotEncode(dfProcessed, 'country_code')"
      ],
      "execution_count": 82,
      "outputs": [
        {
          "output_type": "stream",
          "text": [
            "There are in total 111 unique categories in country_code feature \n",
            "\n",
            "fncpTop 5 markets are:\n",
            " \n",
            "{'FRA', 'GBR', 'CAN', 'USA', 'CHN'}\n",
            "\n",
            "fncpMiddle 10 markets are:\n",
            " \n",
            "{'DZA', 'PER', 'ROM', 'KEN', 'LUX', 'COL', 'LTU', 'PHL', 'ISL', 'NGA'}\n",
            "\n",
            "fncpBottom 5 markets are:\n",
            " \n",
            "{'MAF', 'CIV', 'JAM', 'SYC', 'MKD'}\n",
            "Sucessfully implemented custom one hot encoding for country_code variable...\n"
          ],
          "name": "stdout"
        }
      ]
    },
    {
      "cell_type": "code",
      "metadata": {
        "scrolled": true,
        "id": "N6WHrKHuX3VG",
        "colab_type": "code",
        "colab": {
          "base_uri": "https://localhost:8080/",
          "height": 255
        },
        "outputId": "57a14021-27b7-4dc0-d275-3383e492e8e5"
      },
      "source": [
        "### region variable selecting only top 5, bottom 5 and mid 10 and one-hot encoding###\n",
        "\n",
        "region_variableOneHotCol = funcCustomOneHotEncode(dfProcessed, 'region')"
      ],
      "execution_count": 83,
      "outputs": [
        {
          "output_type": "stream",
          "text": [
            "There are in total 1030 unique categories in region feature \n",
            "\n",
            "fncpTop 5 markets are:\n",
            " \n",
            "{'Los Angeles', 'New York City', 'SF Bay Area', 'London', 'Boston'}\n",
            "\n",
            "fncpMiddle 10 markets are:\n",
            " \n",
            "{'Navarra', 'Dortmund', 'Mendoza, ARG', 'Jyväskylä', 'Fribourg', 'Herisau', 'Welwyn Garden City', 'KEN - Other', 'Tasmania', 'Freiburg'}\n",
            "\n",
            "fncpBottom 5 markets are:\n",
            " \n",
            "{'Thane', 'NS - Other', 'Danderyd', 'CYP - Other', 'Salzburg'}\n",
            "Sucessfully implemented custom one hot encoding for region variable...\n"
          ],
          "name": "stdout"
        }
      ]
    },
    {
      "cell_type": "markdown",
      "metadata": {
        "id": "TyBACmeNX3VI",
        "colab_type": "text"
      },
      "source": [
        "#### Funding Rounds"
      ]
    },
    {
      "cell_type": "code",
      "metadata": {
        "id": "lmoS7jN-X3VI",
        "colab_type": "code",
        "colab": {
          "base_uri": "https://localhost:8080/",
          "height": 105
        },
        "outputId": "be0f8869-8373-49ed-8247-40853ea386c2"
      },
      "source": [
        "### Correcting total funding_rounds ###\n",
        "\n",
        "lstCol = ['seed', 'venture', 'equity_crowdfunding', 'undisclosed', \n",
        "       'convertible_note', 'debt_financing', 'grant', 'private_equity', 'post_ipo_equity', \n",
        "       'post_ipo_debt', 'secondary_market', 'product_crowdfunding', 'round_A', 'round_B', \n",
        "       'round_C', 'round_D', 'round_E', 'round_F', 'round_G', 'round_H']\n",
        "    \n",
        "print('The list of variables associated with funding are \\n', LISTFUNDINGCOL)\n",
        "dfProcessed['r_Count']=dfProcessed.loc[:,lstCol].ge(1).sum(axis=1) # Counts the value across the rows only if the value is greater than 1 only\n",
        "incorrectcount = dfProcessed.loc[dfProcessed['r_Count'] != dfProcessed['funding_rounds'], ['r_Count', 'funding_rounds']].shape[0]\n",
        "print(f'\\nThere are {incorrectcount} rows whose to funding rounds do not match with the actual funding rounds')\n",
        "dfProcessed['funding_rounds'] = dfProcessed['r_Count']\n",
        "lstDropColumns = ['r_Count']\n",
        "LISTCOLUMNNAME = funcColumnsToDrop(dfProcessed, lstDropColumns)"
      ],
      "execution_count": 84,
      "outputs": [
        {
          "output_type": "stream",
          "text": [
            "The list of variables associated with funding are \n",
            " ['seed', 'venture', 'equity_crowdfunding', 'undisclosed', 'convertible_note', 'debt_financing', 'grant', 'private_equity', 'post_ipo_equity', 'post_ipo_debt', 'secondary_market', 'product_crowdfunding', 'round_A', 'round_B', 'round_C', 'round_D', 'round_E', 'round_F', 'round_G', 'round_H']\n",
            "\n",
            "There are 15868 rows whose to funding rounds do not match with the actual funding rounds\n"
          ],
          "name": "stdout"
        }
      ]
    },
    {
      "cell_type": "markdown",
      "metadata": {
        "id": "fqAxr0RCX3VK",
        "colab_type": "text"
      },
      "source": [
        "#### Handling Outliers"
      ]
    },
    {
      "cell_type": "code",
      "metadata": {
        "id": "sas9BIUqX3VL",
        "colab_type": "code",
        "colab": {
          "base_uri": "https://localhost:8080/",
          "height": 88
        },
        "outputId": "6668b660-7809-4919-ae73-2f3f686c0e8c"
      },
      "source": [
        "### Handling outliers if any exist in int and float datatypes ###\n",
        "\n",
        "dictOutlierTuple = {}\n",
        "\n",
        "for col in dfProcessed.columns:\n",
        "    if (((dfProcessed[col].dtype)=='float64') | ((dfProcessed[col].dtype)=='int64')):\n",
        "        percentiles = dfProcessed[col].quantile([.25, .75]).values\n",
        "        lowerQuantileValue = percentiles[0]\n",
        "        upperQuantileValue = percentiles[1]\n",
        "        dfProcessed.loc[dfProcessed[col] < lowerQuantileValue,col] = lowerQuantileValue\n",
        "        lowCount = dfProcessed.loc[dfProcessed[col] < lowerQuantileValue,col].shape[0]\n",
        "        dfProcessed.loc[dfProcessed[col] > upperQuantileValue, col] = upperQuantileValue\n",
        "        highCount = dfProcessed.loc[dfProcessed[col] > upperQuantileValue, col].shape[0]\n",
        "        dictOutlierTuple[col] = (lowerQuantileValue, upperQuantileValue, lowCount, highCount)\n",
        "print(f'Rows affected (LowerQuantile Value, UpperQuantlie Value, LowerQuantlie Rows, Upperquantile Rows)\\n\\n {dictOutlierTuple}')"
      ],
      "execution_count": 85,
      "outputs": [
        {
          "output_type": "stream",
          "text": [
            "Rows affected (LowerQuantile Value, UpperQuantlie Value, LowerQuantlie Rows, Upperquantile Rows)\n",
            "\n",
            " {'funding_rounds': (1.0, 2.0, 0, 0), 'founded_year': (2005.0, 2012.0, 0, 0), 'seed': (0.0, 191876.0, 0, 0), 'venture': (0.0, 7000000.0, 0, 0), 'equity_crowdfunding': (0.0, 0.0, 0, 0), 'undisclosed': (0.0, 0.0, 0, 0), 'convertible_note': (0.0, 0.0, 0, 0), 'debt_financing': (0.0, 0.0, 0, 0), 'grant': (0.0, 0.0, 0, 0), 'private_equity': (0.0, 0.0, 0, 0), 'post_ipo_equity': (0.0, 0.0, 0, 0), 'post_ipo_debt': (0.0, 0.0, 0, 0), 'secondary_market': (0.0, 0.0, 0, 0), 'product_crowdfunding': (0.0, 0.0, 0, 0), 'round_A': (0.0, 0.0, 0, 0), 'round_B': (0.0, 0.0, 0, 0), 'round_C': (0.0, 0.0, 0, 0), 'round_D': (0.0, 0.0, 0, 0), 'round_E': (0.0, 0.0, 0, 0), 'round_F': (0.0, 0.0, 0, 0), 'round_G': (0.0, 0.0, 0, 0), 'round_H': (0.0, 0.0, 0, 0), 'f_SumCol': (257592.0, 14000000.0, 0, 0), 'f_market_Software': (0.0, 0.0, 0, 0), 'f_market_Biotechnology': (0.0, 0.0, 0, 0), 'f_market_Mobile': (0.0, 0.0, 0, 0), 'f_market_E-Commerce': (0.0, 0.0, 0, 0), 'f_market_Curated Web': (0.0, 0.0, 0, 0), 'f_market_Cooking': (0.0, 0.0, 0, 0), 'f_market_Polling': (0.0, 0.0, 0, 0), 'f_market_Oil and Gas': (0.0, 0.0, 0, 0), 'f_market_Computer Vision': (0.0, 0.0, 0, 0), 'f_market_3D Printing': (0.0, 0.0, 0, 0), 'f_market_Law Enforcement': (0.0, 0.0, 0, 0), 'f_market_Identity Management': (0.0, 0.0, 0, 0), 'f_market_Shipping': (0.0, 0.0, 0, 0), 'f_market_Product Design': (0.0, 0.0, 0, 0), 'f_market_Unifed Communications': (0.0, 0.0, 0, 0), 'f_market_RIM': (0.0, 0.0, 0, 0), 'f_market_Remediation': (0.0, 0.0, 0, 0), 'f_market_Timeshares': (0.0, 0.0, 0, 0), 'f_market_Film Distribution': (0.0, 0.0, 0, 0), 'f_market_Fuels': (0.0, 0.0, 0, 0), 'f_country_code_USA': (0.0, 1.0, 0, 0), 'f_country_code_GBR': (0.0, 0.0, 0, 0), 'f_country_code_CAN': (0.0, 0.0, 0, 0), 'f_country_code_CHN': (0.0, 0.0, 0, 0), 'f_country_code_FRA': (0.0, 0.0, 0, 0), 'f_country_code_ISL': (0.0, 0.0, 0, 0), 'f_country_code_LUX': (0.0, 0.0, 0, 0), 'f_country_code_NGA': (0.0, 0.0, 0, 0), 'f_country_code_DZA': (0.0, 0.0, 0, 0), 'f_country_code_KEN': (0.0, 0.0, 0, 0), 'f_country_code_PER': (0.0, 0.0, 0, 0), 'f_country_code_ROM': (0.0, 0.0, 0, 0), 'f_country_code_LTU': (0.0, 0.0, 0, 0), 'f_country_code_PHL': (0.0, 0.0, 0, 0), 'f_country_code_COL': (0.0, 0.0, 0, 0), 'f_country_code_MKD': (0.0, 0.0, 0, 0), 'f_country_code_JAM': (0.0, 0.0, 0, 0), 'f_country_code_SYC': (0.0, 0.0, 0, 0), 'f_country_code_CIV': (0.0, 0.0, 0, 0), 'f_country_code_MAF': (0.0, 0.0, 0, 0), 'f_region_SF Bay Area': (0.0, 0.0, 0, 0), 'f_region_New York City': (0.0, 0.0, 0, 0), 'f_region_Boston': (0.0, 0.0, 0, 0), 'f_region_London': (0.0, 0.0, 0, 0), 'f_region_Los Angeles': (0.0, 0.0, 0, 0), 'f_region_KEN - Other': (0.0, 0.0, 0, 0), 'f_region_Mendoza, ARG': (0.0, 0.0, 0, 0), 'f_region_Jyväskylä': (0.0, 0.0, 0, 0), 'f_region_Dortmund': (0.0, 0.0, 0, 0), 'f_region_Fribourg': (0.0, 0.0, 0, 0), 'f_region_Herisau': (0.0, 0.0, 0, 0), 'f_region_Navarra': (0.0, 0.0, 0, 0), 'f_region_Freiburg': (0.0, 0.0, 0, 0), 'f_region_Tasmania': (0.0, 0.0, 0, 0), 'f_region_Welwyn Garden City': (0.0, 0.0, 0, 0), 'f_region_Danderyd': (0.0, 0.0, 0, 0), 'f_region_CYP - Other': (0.0, 0.0, 0, 0), 'f_region_Salzburg': (0.0, 0.0, 0, 0), 'f_region_NS - Other': (0.0, 0.0, 0, 0), 'f_region_Thane': (0.0, 0.0, 0, 0)}\n"
          ],
          "name": "stdout"
        }
      ]
    },
    {
      "cell_type": "markdown",
      "metadata": {
        "id": "fzZuZT8cbEYh",
        "colab_type": "text"
      },
      "source": [
        "#### Category List"
      ]
    },
    {
      "cell_type": "code",
      "metadata": {
        "id": "dm2zJRCUX3VN",
        "colab_type": "code",
        "colab": {}
      },
      "source": [
        "### Replaces NaN with single pipe and then checks the number of pipes in the string. If greater than two multi category \n",
        "### is marked as 1 and if not marked as 0.\n",
        "\n",
        "dfProcessed.loc[dfProcessed['category_list'].isna() == True,['category_list']] = '|'\n",
        "dfProcessed['f_Multi_Category'] = [1 if x.count('|') > 2 else 0 for x in dfProcessed['category_list']] \n",
        "lstDropColumns = ['category_list'] \n",
        "LISTCOLUMNNAME = funcColumnsToDrop(dfProcessed, lstDropColumns)"
      ],
      "execution_count": 86,
      "outputs": []
    },
    {
      "cell_type": "markdown",
      "metadata": {
        "id": "-aTlZTExbLi8",
        "colab_type": "text"
      },
      "source": [
        "#### Homepage_URL"
      ]
    },
    {
      "cell_type": "code",
      "metadata": {
        "id": "GsmzebdPX3VO",
        "colab_type": "code",
        "colab": {}
      },
      "source": [
        "dfProcessed.loc[dfProcessed['homepage_url'].isna() == True,['homepage_url']] = 'NAN'\n",
        "dfProcessed['f_URL'] = [1 if len(x) > 3 else 0 for x in dfProcessed['homepage_url']]\n",
        "lstDropColumns = ['homepage_url'] \n",
        "LISTCOLUMNNAME = funcColumnsToDrop(dfProcessed, lstDropColumns)"
      ],
      "execution_count": 87,
      "outputs": []
    },
    {
      "cell_type": "markdown",
      "metadata": {
        "id": "bCbmmMQMbYxA",
        "colab_type": "text"
      },
      "source": [
        "#### Year Related Columns"
      ]
    },
    {
      "cell_type": "code",
      "metadata": {
        "scrolled": true,
        "id": "dfXB6FjQX3VQ",
        "colab_type": "code",
        "colab": {
          "base_uri": "https://localhost:8080/",
          "height": 238
        },
        "outputId": "6ba7a3e4-639c-495e-c080-f8395c29bf6e"
      },
      "source": [
        "### Checking to impute founded year using the other coulmns\n",
        "\n",
        "print(dfProcessed.loc[((dfProcessed['founded_month'].isna() == False) & (dfProcessed['founded_at'].isna() == True)) ,['founded_at','founded_month']])\n",
        "print('\\n')\n",
        "print(dfProcessed.loc[((dfProcessed['founded_quarter'].isna() == False) & (dfProcessed['founded_at'].isna() == True)) ,['founded_at', 'founded_quarter']])\n",
        "print('\\n')\n",
        "print(dfProcessed.loc[((dfProcessed['founded_year'].isna() == False) & (dfProcessed['founded_at'].isna() == True)) ,['founded_at', 'founded_year']])"
      ],
      "execution_count": 88,
      "outputs": [
        {
          "output_type": "stream",
          "text": [
            "Empty DataFrame\n",
            "Columns: [founded_at, founded_month]\n",
            "Index: []\n",
            "\n",
            "\n",
            "Empty DataFrame\n",
            "Columns: [founded_at, founded_quarter]\n",
            "Index: []\n",
            "\n",
            "\n",
            "Empty DataFrame\n",
            "Columns: [founded_at, founded_year]\n",
            "Index: []\n"
          ],
          "name": "stdout"
        }
      ]
    },
    {
      "cell_type": "code",
      "metadata": {
        "id": "8efSqBsaX3VS",
        "colab_type": "code",
        "colab": {
          "base_uri": "https://localhost:8080/",
          "height": 34
        },
        "outputId": "87dc9345-bdca-4197-d3ff-8da55baf4b4f"
      },
      "source": [
        "### Calculating the age of the company and removing all the companies whose age is greater than 30 years\n",
        "\n",
        "dfProcessed['r_first_funding_year'] = pd.DatetimeIndex(dfProcessed['first_funding_at']).year\n",
        "dfProcessed['r_last_funding_year'] = pd.DatetimeIndex(dfProcessed['last_funding_at']).year\n",
        "dfProcessed['r_founded_year'] = pd.DatetimeIndex(dfProcessed['founded_at']).year\n",
        "\n",
        "dfProcessed['r_diff'] = dfProcessed['r_first_funding_year'] - dfProcessed['r_founded_year']\n",
        "dfProcessed['r_diff_mean'] = round(dfProcessed['r_diff'].mean(skipna=True),0)\n",
        "dfProcessed.loc[dfProcessed['r_founded_year'].isna() == True,['r_founded_year']] = dfProcessed['r_first_funding_year'] - dfProcessed['r_diff_mean']\n",
        "\n",
        "dfProcessed['f_age'] = 2020 - dfProcessed['r_founded_year']\n",
        "ageCondRows = dfProcessed.loc[((dfProcessed['f_age'] > 30) | (dfProcessed['f_age'] < 0)),].shape[0]\n",
        "print(f'There are {ageCondRows} whose age is greater than 30 or less than zero')\n",
        "dfProcessed = dfProcessed.loc[((dfProcessed['f_age'] <= 30) & (dfProcessed['f_age'] >= 0)),]"
      ],
      "execution_count": 89,
      "outputs": [
        {
          "output_type": "stream",
          "text": [
            "There are 811 whose age is greater than 30 or less than zero\n"
          ],
          "name": "stdout"
        }
      ]
    },
    {
      "cell_type": "code",
      "metadata": {
        "id": "2XZ6Nk7fX3VV",
        "colab_type": "code",
        "colab": {}
      },
      "source": [
        "### Changing the 'first funding year' whose value is less than 'founded year' to be the same as 'founded year' ###\n",
        "\n",
        "dfProcessed.loc[dfProcessed['r_first_funding_year'] < dfProcessed['r_founded_year'],['r_first_funding_year']] = dfProcessed['r_founded_year']\n",
        "dfProcessed['f_yearstoFirstFunding'] = dfProcessed['r_first_funding_year'] - dfProcessed['r_founded_year']"
      ],
      "execution_count": 90,
      "outputs": []
    },
    {
      "cell_type": "code",
      "metadata": {
        "scrolled": true,
        "id": "nAxDe_QOX3VX",
        "colab_type": "code",
        "colab": {}
      },
      "source": [
        "### Changing the 'last funding year' whose value is less than 'first funding year' to be the same as 'first funding year' ###\n",
        "\n",
        "dfProcessed.loc[dfProcessed['r_last_funding_year'] < dfProcessed['r_first_funding_year'] ,['r_last_funding_year']] = dfProcessed['r_first_funding_year']\n",
        "dfProcessed['f_FirstFundingToLastFunding'] = dfProcessed['r_last_funding_year'] - dfProcessed['r_first_funding_year']"
      ],
      "execution_count": 91,
      "outputs": []
    },
    {
      "cell_type": "code",
      "metadata": {
        "id": "Oi7xh0cZX3Vb",
        "colab_type": "code",
        "colab": {}
      },
      "source": [
        "### Dropping columns related to dates ###\n",
        "\n",
        "lstDropColumns = ['r_first_funding_year', 'r_last_funding_year', 'r_founded_year', 'r_diff', 'r_diff_mean', 'founded_at', 'founded_at', 'founded_month',\n",
        "       'founded_quarter', 'founded_year', 'first_funding_at','last_funding_at']\n",
        "LISTCOLUMNNAME = funcColumnsToDrop(dfProcessed, lstDropColumns)"
      ],
      "execution_count": 92,
      "outputs": []
    },
    {
      "cell_type": "markdown",
      "metadata": {
        "id": "fWbxNNfWbvuz",
        "colab_type": "text"
      },
      "source": [
        "#### Target Variable"
      ]
    },
    {
      "cell_type": "code",
      "metadata": {
        "id": "Y20dpnLDbwNb",
        "colab_type": "code",
        "colab": {}
      },
      "source": [
        "### Label Encoding Target Variable ### \n",
        "\n",
        "label_encoder = preprocessing.LabelEncoder() \n",
        "dfProcessed['status']= label_encoder.fit_transform(dfProcessed['status']) "
      ],
      "execution_count": 94,
      "outputs": []
    },
    {
      "cell_type": "code",
      "metadata": {
        "id": "cqEwLzIvcBRB",
        "colab_type": "code",
        "colab": {
          "base_uri": "https://localhost:8080/",
          "height": 51
        },
        "outputId": "3b9e6a2e-7299-4c87-e02a-90db6ef722ca"
      },
      "source": [
        "ROWS = dfProcessed.shape[0]\n",
        "COLUMNS = dfProcessed.shape[1]\n",
        "print(f'Total number of rows in the final dataset : {ROWS} \\nTotal number of columns in the final dataset : {COLUMNS}')"
      ],
      "execution_count": 95,
      "outputs": [
        {
          "output_type": "stream",
          "text": [
            "Total number of rows in the final dataset : 38990 \n",
            "Total number of columns in the final dataset : 88\n"
          ],
          "name": "stdout"
        }
      ]
    },
    {
      "cell_type": "code",
      "metadata": {
        "id": "cfxNAiYhbwJG",
        "colab_type": "code",
        "colab": {}
      },
      "source": [
        "### TRAIN TEST SPLIT ###\n",
        "X = dfProcessed.loc[:, ~dfProcessed.columns.isin(['status'])] \n",
        "y = dfProcessed.loc[:, ['status']] \n",
        "X_train, X_test, y_train, y_test = train_test_split(X, y, test_size=0.25, random_state=42)\n",
        "del X, y"
      ],
      "execution_count": 96,
      "outputs": []
    },
    {
      "cell_type": "markdown",
      "metadata": {
        "id": "R68hnGclX3Vd",
        "colab_type": "text"
      },
      "source": [
        "# Model Building"
      ]
    },
    {
      "cell_type": "markdown",
      "metadata": {
        "id": "W89PahD6XeIs",
        "colab_type": "text"
      },
      "source": [
        "## Imbalanced dataset"
      ]
    },
    {
      "cell_type": "markdown",
      "metadata": {
        "id": "OiVoj-1m_kFq",
        "colab_type": "text"
      },
      "source": [
        "### Dummy Classifier ###\n"
      ]
    },
    {
      "cell_type": "code",
      "metadata": {
        "id": "5cAh9Zb1W3GT",
        "colab_type": "code",
        "colab": {}
      },
      "source": [
        "dummy_clf = DummyClassifier(strategy=\"most_frequent\")"
      ],
      "execution_count": 97,
      "outputs": []
    },
    {
      "cell_type": "markdown",
      "metadata": {
        "id": "xKWVhoN2XGth",
        "colab_type": "text"
      },
      "source": [
        "#### Model Training"
      ]
    },
    {
      "cell_type": "code",
      "metadata": {
        "id": "7fzHY7iMW3Nx",
        "colab_type": "code",
        "colab": {
          "base_uri": "https://localhost:8080/",
          "height": 34
        },
        "outputId": "f3ce2495-f97e-4d01-bbe5-22ea0bae8dee"
      },
      "source": [
        "dummy_clf.fit(X_train, y_train)"
      ],
      "execution_count": 98,
      "outputs": [
        {
          "output_type": "execute_result",
          "data": {
            "text/plain": [
              "DummyClassifier(constant=None, random_state=None, strategy='most_frequent')"
            ]
          },
          "metadata": {
            "tags": []
          },
          "execution_count": 98
        }
      ]
    },
    {
      "cell_type": "markdown",
      "metadata": {
        "id": "pbZ48MOAXcme",
        "colab_type": "text"
      },
      "source": [
        "#### Model Prediction"
      ]
    },
    {
      "cell_type": "code",
      "metadata": {
        "id": "XzvmtNjqXiZv",
        "colab_type": "code",
        "colab": {
          "base_uri": "https://localhost:8080/",
          "height": 34
        },
        "outputId": "1f556d9c-da83-4aa7-8578-ca7482b4d9f4"
      },
      "source": [
        "predictedValues = dummy_clf.predict(X_test)\n",
        "print('Sucessfully predicted the values')"
      ],
      "execution_count": 99,
      "outputs": [
        {
          "output_type": "stream",
          "text": [
            "Sucessfully predicted the values\n"
          ],
          "name": "stdout"
        }
      ]
    },
    {
      "cell_type": "markdown",
      "metadata": {
        "id": "QpG1zacVif6o",
        "colab_type": "text"
      },
      "source": [
        "#### Cross Validation score"
      ]
    },
    {
      "cell_type": "code",
      "metadata": {
        "id": "u-E2PZv8immz",
        "colab_type": "code",
        "colab": {
          "base_uri": "https://localhost:8080/",
          "height": 136
        },
        "outputId": "2c56daad-0818-454e-be07-0531f6b45d7c"
      },
      "source": [
        "recallScores, precisionScores, f1Scores = funcCustomCVScore(fncp_X_train=X_train, \n",
        "                                                            fncp_y_train=y_train, \n",
        "                                                            fncpKFold=10,\n",
        "                                                            fncpBaseModel=DummyClassifier,\n",
        "                                                            fncpBaseModelParam={'strategy':'most_frequent'},\n",
        "                                                            fncpRandomState=123,\n",
        "                                                            fncpScoreAverage='weighted')"
      ],
      "execution_count": 100,
      "outputs": [
        {
          "output_type": "stream",
          "text": [
            "10it [00:00, 55.78it/s]"
          ],
          "name": "stderr"
        },
        {
          "output_type": "stream",
          "text": [
            "\n",
            "\n",
            "The mean score and the 95% confidence interval of the score estimate are\n",
            "Recall: 74.71 (+/- 2.96)\n",
            "Precision: 86.43 (+/- 1.71)\n",
            "F1-Score: 80.14 (+/- 2.44)\n"
          ],
          "name": "stdout"
        },
        {
          "output_type": "stream",
          "text": [
            "\n"
          ],
          "name": "stderr"
        }
      ]
    },
    {
      "cell_type": "markdown",
      "metadata": {
        "id": "ODS4fKW-XwGQ",
        "colab_type": "text"
      },
      "source": [
        "#### Test Model Evaluation"
      ]
    },
    {
      "cell_type": "code",
      "metadata": {
        "id": "1KwruFsBX1Ff",
        "colab_type": "code",
        "colab": {
          "base_uri": "https://localhost:8080/",
          "height": 102
        },
        "outputId": "7e74269b-995e-461e-ec26-7e26c55c1873"
      },
      "source": [
        "fncpModelEvaluvate(fncpActual=y_test, \n",
        "                   fncpPredicted=predictedValues, \n",
        "                   fncpBoolHeatMap=False, \n",
        "                   fncpMultiClass=True,\n",
        "                   fncpAverageType='weighted')"
      ],
      "execution_count": 101,
      "outputs": [
        {
          "output_type": "stream",
          "text": [
            "Evaluation Metrics\n",
            "\n",
            "Recall Score :86.65%\n",
            "Precision Score :75.09%\n",
            "F1 Score :80.46%\n"
          ],
          "name": "stdout"
        }
      ]
    },
    {
      "cell_type": "markdown",
      "metadata": {
        "id": "wNwn59wjcR2l",
        "colab_type": "text"
      },
      "source": [
        "### Vanilla Randomforest Classifier\n"
      ]
    },
    {
      "cell_type": "code",
      "metadata": {
        "id": "hAO1ICfLbEeh",
        "colab_type": "code",
        "colab": {}
      },
      "source": [
        "classiRandomForest = RandomForestClassifier()"
      ],
      "execution_count": 102,
      "outputs": []
    },
    {
      "cell_type": "code",
      "metadata": {
        "id": "4ZhT8dJvwpWW",
        "colab_type": "code",
        "colab": {
          "base_uri": "https://localhost:8080/",
          "height": 34
        },
        "outputId": "c047069e-bf54-4da9-9d47-2930ed36ffed"
      },
      "source": [
        "classiRandomForest.fit(X_train, y_train)\n",
        "predictedValues = classiRandomForest.predict(X_test)\n",
        "print('Sucessfully predicted the values')"
      ],
      "execution_count": 103,
      "outputs": [
        {
          "output_type": "stream",
          "text": [
            "Sucessfully predicted the values\n"
          ],
          "name": "stdout"
        }
      ]
    },
    {
      "cell_type": "markdown",
      "metadata": {
        "id": "jALbDHhJtnPr",
        "colab_type": "text"
      },
      "source": [
        "##### Model Training"
      ]
    },
    {
      "cell_type": "code",
      "metadata": {
        "id": "b3HKrp2otkzV",
        "colab_type": "code",
        "colab": {
          "base_uri": "https://localhost:8080/",
          "height": 153
        },
        "outputId": "093a6b6e-56b1-44d6-e762-235996b0fd19"
      },
      "source": [
        "classiRandomForest.fit(X_train, y_train)"
      ],
      "execution_count": 104,
      "outputs": [
        {
          "output_type": "execute_result",
          "data": {
            "text/plain": [
              "RandomForestClassifier(bootstrap=True, ccp_alpha=0.0, class_weight=None,\n",
              "                       criterion='gini', max_depth=None, max_features='auto',\n",
              "                       max_leaf_nodes=None, max_samples=None,\n",
              "                       min_impurity_decrease=0.0, min_impurity_split=None,\n",
              "                       min_samples_leaf=1, min_samples_split=2,\n",
              "                       min_weight_fraction_leaf=0.0, n_estimators=100,\n",
              "                       n_jobs=None, oob_score=False, random_state=None,\n",
              "                       verbose=0, warm_start=False)"
            ]
          },
          "metadata": {
            "tags": []
          },
          "execution_count": 104
        }
      ]
    },
    {
      "cell_type": "markdown",
      "metadata": {
        "id": "V2gTLi9JvaKD",
        "colab_type": "text"
      },
      "source": [
        "##### Model Prediction"
      ]
    },
    {
      "cell_type": "code",
      "metadata": {
        "id": "_JMvSx1otAUK",
        "colab_type": "code",
        "colab": {
          "base_uri": "https://localhost:8080/",
          "height": 34
        },
        "outputId": "dec3bfe8-36d4-42c7-df57-734418d76910"
      },
      "source": [
        "predictedValues = classiRandomForest.predict(X_test)\n",
        "print('Sucessfully predicted the values')"
      ],
      "execution_count": 105,
      "outputs": [
        {
          "output_type": "stream",
          "text": [
            "Sucessfully predicted the values\n"
          ],
          "name": "stdout"
        }
      ]
    },
    {
      "cell_type": "markdown",
      "metadata": {
        "id": "HeXFLfRcviKc",
        "colab_type": "text"
      },
      "source": [
        "##### Cross Validation Score"
      ]
    },
    {
      "cell_type": "code",
      "metadata": {
        "id": "x7tL-hGJtAjR",
        "colab_type": "code",
        "colab": {
          "base_uri": "https://localhost:8080/",
          "height": 136
        },
        "outputId": "be2f7214-8f20-4013-a6d1-8c2d736648dd"
      },
      "source": [
        "recallScores, precisionScores, f1Scores = funcCustomCVScore(fncp_X_train=X_train, \n",
        "                                                            fncp_y_train=y_train, \n",
        "                                                            fncpKFold=10,\n",
        "                                                            fncpBaseModel=RandomForestClassifier,\n",
        "                                                            fncpBaseModelParam=None,\n",
        "                                                            fncpRandomState=123,\n",
        "                                                            fncpScoreAverage='weighted')"
      ],
      "execution_count": 106,
      "outputs": [
        {
          "output_type": "stream",
          "text": [
            "10it [00:17,  1.71s/it]"
          ],
          "name": "stderr"
        },
        {
          "output_type": "stream",
          "text": [
            "\n",
            "\n",
            "The mean score and the 95% confidence interval of the score estimate are\n",
            "Recall: 79.80 (+/- 2.67)\n",
            "Precision: 84.34 (+/- 1.73)\n",
            "F1-Score: 81.57 (+/- 2.37)\n"
          ],
          "name": "stdout"
        },
        {
          "output_type": "stream",
          "text": [
            "\n"
          ],
          "name": "stderr"
        }
      ]
    },
    {
      "cell_type": "markdown",
      "metadata": {
        "id": "mE4pxEOlvn3_",
        "colab_type": "text"
      },
      "source": [
        "##### Test Model Evaluation"
      ]
    },
    {
      "cell_type": "code",
      "metadata": {
        "id": "vyCRxScAvtsG",
        "colab_type": "code",
        "colab": {
          "base_uri": "https://localhost:8080/",
          "height": 102
        },
        "outputId": "5f27c47c-b8fd-4b6b-fc8d-25d2b8a403d2"
      },
      "source": [
        "fncpModelEvaluvate(fncpActual=y_test, \n",
        "                   fncpPredicted=predictedValues, \n",
        "                   fncpBoolHeatMap=False, \n",
        "                   fncpMultiClass=True,\n",
        "                   fncpAverageType='weighted')"
      ],
      "execution_count": 107,
      "outputs": [
        {
          "output_type": "stream",
          "text": [
            "Evaluation Metrics\n",
            "\n",
            "Recall Score :85.09%\n",
            "Precision Score :81.16%\n",
            "F1 Score :82.6%\n"
          ],
          "name": "stdout"
        }
      ]
    },
    {
      "cell_type": "markdown",
      "metadata": {
        "id": "JXxO1gWxt-7n",
        "colab_type": "text"
      },
      "source": [
        "### Random forest with optimum parameters"
      ]
    },
    {
      "cell_type": "markdown",
      "metadata": {
        "id": "AyLZgdWSceJJ",
        "colab_type": "text"
      },
      "source": [
        "###### Gridsearch Parameters"
      ]
    },
    {
      "cell_type": "code",
      "metadata": {
        "id": "UJbb5VNicYlf",
        "colab_type": "code",
        "colab": {
          "base_uri": "https://localhost:8080/",
          "height": 71
        },
        "outputId": "4ee2d650-717f-4df7-b40b-b3bfb324b529"
      },
      "source": [
        "# Number of trees in random forest\n",
        "n_estimators = [int(x) for x in np.linspace(start = 200, stop = 2000, num = 10)]\n",
        "# Number of features to consider at every split\n",
        "max_features = ['auto', 'log2']\n",
        "# Maximum number of levels in tree\n",
        "max_depth = [int(x) for x in np.linspace(10, 110, num = 11)]\n",
        "max_depth.append(None)\n",
        "# Minimum number of samples required to split a node\n",
        "min_samples_split = [2, 5, 10]\n",
        "# Minimum number of samples required at each leaf node\n",
        "min_samples_leaf = [1, 2, 4]\n",
        "# Method of selecting samples for training each tree\n",
        "bootstrap = [True, False]\n",
        "# Create the random grid\n",
        "random_grid = {'n_estimators': n_estimators,\n",
        "               'max_features': max_features,\n",
        "               'max_depth': max_depth,\n",
        "               'min_samples_split': min_samples_split,\n",
        "               'min_samples_leaf': min_samples_leaf,\n",
        "               'bootstrap': bootstrap}\n",
        "print(f'The hyperparameters are \\n{random_grid}')"
      ],
      "execution_count": 108,
      "outputs": [
        {
          "output_type": "stream",
          "text": [
            "The hyperparameters are \n",
            "{'n_estimators': [200, 400, 600, 800, 1000, 1200, 1400, 1600, 1800, 2000], 'max_features': ['auto', 'log2'], 'max_depth': [10, 20, 30, 40, 50, 60, 70, 80, 90, 100, 110, None], 'min_samples_split': [2, 5, 10], 'min_samples_leaf': [1, 2, 4], 'bootstrap': [True, False]}\n"
          ],
          "name": "stdout"
        }
      ]
    },
    {
      "cell_type": "markdown",
      "metadata": {
        "id": "ZuAB45UFpJWj",
        "colab_type": "text"
      },
      "source": [
        "###### Random Search CV Training"
      ]
    },
    {
      "cell_type": "code",
      "metadata": {
        "id": "6jl-6p47Lyho",
        "colab_type": "code",
        "colab": {}
      },
      "source": [
        "start_time = time.time()\n",
        "model = RandomForestClassifier()\n",
        "current_time = datetime.datetime.now(pytz.timezone('Asia/Kolkata')).strftime(\"%d%m%Y_%H%M%S\")\n",
        "modelFileName = PATH+'/Model/cv_model_'+ current_time +'.sav'\n",
        "print(f'Model training start time : {current_time}\\n')\n",
        "rf_random = RandomizedSearchCV(estimator=model, param_distributions=random_grid, n_iter=100, cv=3, verbose=3, random_state=42, n_jobs=-1)\n",
        "rf_random.fit(X_train, y_train)\n",
        "\n",
        "# Saving Model #\n",
        "pickle.dump(rf_random, open(modelFileName, 'wb'))\n",
        "\n",
        "print(f'Minutes taken to complete training : {(time.time() - start_time)/60}')"
      ],
      "execution_count": 109,
      "outputs": []
    },
    {
      "cell_type": "code",
      "metadata": {
        "id": "Swz9ouF5bEWP",
        "colab_type": "code",
        "colab": {
          "base_uri": "https://localhost:8080/",
          "height": 34
        },
        "outputId": "4b19df37-97e3-4273-d078-004ecead01fa"
      },
      "source": [
        "### Loading saved model ###\n",
        "chosenFilePath = r'/content/gdrive/My Drive/AIML/DIY_Programs/MLPipeLine/Model/cv_model_24082020_110100.sav'\n",
        "loaded_model = pickle.load(open(chosenFilePath, 'rb'))\n",
        "print('Sucessfully loaded the model!!!')"
      ],
      "execution_count": 110,
      "outputs": [
        {
          "output_type": "stream",
          "text": [
            "Sucessfully loaded the model!!!\n"
          ],
          "name": "stdout"
        }
      ]
    },
    {
      "cell_type": "code",
      "metadata": {
        "id": "SsACGEbjbEPD",
        "colab_type": "code",
        "colab": {
          "base_uri": "https://localhost:8080/",
          "height": 119
        },
        "outputId": "a5dbe727-5f5c-4a8d-9262-fde72fe5ae97"
      },
      "source": [
        "for key, val in loaded_model.best_params_.items():\n",
        "  print(f'The best \"{key}\" hyperparameter is: {val} ')"
      ],
      "execution_count": 111,
      "outputs": [
        {
          "output_type": "stream",
          "text": [
            "The best \"n_estimators\" hyperparameter is: 2000 \n",
            "The best \"min_samples_split\" hyperparameter is: 10 \n",
            "The best \"min_samples_leaf\" hyperparameter is: 2 \n",
            "The best \"max_features\" hyperparameter is: auto \n",
            "The best \"max_depth\" hyperparameter is: 40 \n",
            "The best \"bootstrap\" hyperparameter is: True \n"
          ],
          "name": "stdout"
        }
      ]
    },
    {
      "cell_type": "code",
      "metadata": {
        "id": "xr7GHVchDP5C",
        "colab_type": "code",
        "colab": {
          "base_uri": "https://localhost:8080/",
          "height": 833
        },
        "outputId": "ae5ca06c-5701-4b72-f719-7918c547a9d4"
      },
      "source": [
        "### Feature Importance ###\n",
        "dfImportantFeature = funcFeatureImportance(loaded_model, X_train, fncpCV=True)"
      ],
      "execution_count": 112,
      "outputs": [
        {
          "output_type": "stream",
          "text": [
            "Top 20 Important Feature\n",
            "\n",
            "                             importance\n",
            "f_age                          0.304417\n",
            "f_SumCol                       0.177602\n",
            "f_yearstoFirstFunding          0.160708\n",
            "venture                        0.113759\n",
            "f_FirstFundingToLastFunding    0.090197\n",
            "seed                           0.073143\n",
            "f_country_code_USA             0.026437\n",
            "funding_rounds                 0.023636\n",
            "f_Multi_Category               0.020538\n",
            "f_URL                          0.009563\n",
            "private_equity                 0.000000\n",
            "f_country_code_MKD             0.000000\n",
            "f_region_Boston                0.000000\n",
            "f_region_New York City         0.000000\n",
            "f_region_SF Bay Area           0.000000\n",
            "f_country_code_MAF             0.000000\n",
            "f_country_code_CIV             0.000000\n",
            "f_country_code_SYC             0.000000\n",
            "f_country_code_JAM             0.000000\n",
            "f_country_code_COL             0.000000\n",
            "\n",
            "\n",
            "Bottom 20 Important Feature\n",
            "\n",
            "                                importance\n",
            "f_market_Polling                       0.0\n",
            "f_country_code_FRA                     0.0\n",
            "f_market_Remediation                   0.0\n",
            "f_country_code_CHN                     0.0\n",
            "f_country_code_CAN                     0.0\n",
            "convertible_note                       0.0\n",
            "debt_financing                         0.0\n",
            "f_market_Fuels                         0.0\n",
            "f_market_Film Distribution             0.0\n",
            "f_market_Timeshares                    0.0\n",
            "f_market_RIM                           0.0\n",
            "f_market_Oil and Gas                   0.0\n",
            "f_market_Unifed Communications         0.0\n",
            "f_market_Product Design                0.0\n",
            "f_market_Shipping                      0.0\n",
            "f_market_Identity Management           0.0\n",
            "f_market_Law Enforcement               0.0\n",
            "f_market_3D Printing                   0.0\n",
            "f_market_Computer Vision               0.0\n",
            "f_country_code_GBR                     0.0\n"
          ],
          "name": "stdout"
        }
      ]
    },
    {
      "cell_type": "markdown",
      "metadata": {
        "id": "yqb2-MtkibFw",
        "colab_type": "text"
      },
      "source": [
        "###### Cross Validation Score"
      ]
    },
    {
      "cell_type": "code",
      "metadata": {
        "id": "TIYFkm0tf2c6",
        "colab_type": "code",
        "colab": {
          "base_uri": "https://localhost:8080/",
          "height": 68
        },
        "outputId": "29420b54-9b69-47c4-feb6-5b9173c86317"
      },
      "source": [
        "recallScores, precisionScores, f1Scores = funcCustomCVScore(fncp_X_train=X_train, \n",
        "                                                            fncp_y_train=y_train, \n",
        "                                                            fncpKFold=10,\n",
        "                                                            fncpBaseModel=RandomForestClassifier, \n",
        "                                                            fncpBaseModelParam=loaded_model.best_params_,\n",
        "                                                            fncpRandomState=123,\n",
        "                                                            fncpScoreAverage='weighted')"
      ],
      "execution_count": 113,
      "outputs": [
        {
          "output_type": "stream",
          "text": [
            "Recall: 80.90 (+/- 6.18)\n",
            "Precision: 86.43 (+/- 1.82)\n",
            "F1-Score: 81.08 (+/- 2.54)\n"
          ],
          "name": "stdout"
        }
      ]
    },
    {
      "cell_type": "markdown",
      "metadata": {
        "id": "iIWwWiTWQYfx",
        "colab_type": "text"
      },
      "source": [
        "###### Model Prediction"
      ]
    },
    {
      "cell_type": "code",
      "metadata": {
        "id": "QUlV6CmHQWcH",
        "colab_type": "code",
        "colab": {
          "base_uri": "https://localhost:8080/",
          "height": 34
        },
        "outputId": "9c5bfc87-a28c-4a1c-c37a-c78041278f20"
      },
      "source": [
        "predictedValues = loaded_model.best_estimator_.predict(X_test)\n",
        "print('Sucessfully predicted the values')"
      ],
      "execution_count": 114,
      "outputs": [
        {
          "output_type": "stream",
          "text": [
            "Sucessfully predicted the values\n"
          ],
          "name": "stdout"
        }
      ]
    },
    {
      "cell_type": "markdown",
      "metadata": {
        "id": "X0q2keDIayU_",
        "colab_type": "text"
      },
      "source": [
        "###### Test Model Evaluation\n"
      ]
    },
    {
      "cell_type": "code",
      "metadata": {
        "id": "5b_0RPEvDC-r",
        "colab_type": "code",
        "colab": {
          "base_uri": "https://localhost:8080/",
          "height": 102
        },
        "outputId": "4ff1e163-3d9e-49e0-88c1-5015dd5b6ee2"
      },
      "source": [
        "# Test Dataset\n",
        "\n",
        "fncpModelEvaluvate(y_test, predictedValues, fncpBoolHeatMap=False, fncpMultiClass=True,fncpAverageType='weighted')"
      ],
      "execution_count": 115,
      "outputs": [
        {
          "output_type": "stream",
          "text": [
            "Evaluation Metrics\n",
            "\n",
            "Recall Score :86.8%\n",
            "Precision Score :81.39%\n",
            "F1 Score :81.81%\n"
          ],
          "name": "stdout"
        }
      ]
    },
    {
      "cell_type": "markdown",
      "metadata": {
        "id": "HvJPj-3MZHFf",
        "colab_type": "text"
      },
      "source": [
        "## Balanced Dataset"
      ]
    },
    {
      "cell_type": "code",
      "metadata": {
        "id": "W-UZO0y0qx9T",
        "colab_type": "code",
        "colab": {
          "base_uri": "https://localhost:8080/",
          "height": 153
        },
        "outputId": "af27797e-825a-427c-b83e-2417903373cb"
      },
      "source": [
        "print('Before under and over SMOTE')\n",
        "counter = Counter(y_train['status'].array)\n",
        "print(counter)\n",
        "\n",
        "# define pipeline\n",
        "dictOver = {0: 12000, 1:12000}\n",
        "over = SMOTE(sampling_strategy=dictOver)\n",
        "dictUnder = {2: 20000}\n",
        "under = RandomUnderSampler(sampling_strategy=dictUnder)\n",
        "steps = [('o', over), ('u', under)]\n",
        "pipeline = Pipeline(steps=steps)\n",
        "\n",
        "# transform the dataset\n",
        "X_new, y_new = pipeline.fit_resample(X_train, y_train)\n",
        "X_new, y_new = shuffle(X_new, y_new) # Shuffles the arrays\n",
        "\n",
        "print('\\n')\n",
        "print('After under and over SMOTE')\n",
        "counter = Counter(y_new)\n",
        "print(counter)\n",
        "\n",
        "# Converts the array into a dataframe \n",
        "X_new = pd.DataFrame(data=X_new, columns=X_train.columns.to_list())\n",
        "y_new = pd.DataFrame(data=y_new, columns=y_train.columns.to_list())\n",
        "print('\\nSMOTE dataframe sucessfully created')"
      ],
      "execution_count": 116,
      "outputs": [
        {
          "output_type": "stream",
          "text": [
            "Before under and over SMOTE\n",
            "Counter({2: 25263, 0: 2353, 1: 1626})\n",
            "\n",
            "\n",
            "After under and over SMOTE\n",
            "Counter({2: 20000, 1: 12000, 0: 12000})\n",
            "\n",
            "SMOTE dataframe sucessfully created\n"
          ],
          "name": "stdout"
        }
      ]
    },
    {
      "cell_type": "markdown",
      "metadata": {
        "id": "UI-sAJ_4ZZjh",
        "colab_type": "text"
      },
      "source": [
        "### Dummy Classifier"
      ]
    },
    {
      "cell_type": "code",
      "metadata": {
        "id": "nsjySBJxb1bI",
        "colab_type": "code",
        "colab": {}
      },
      "source": [
        "dummy_clf = DummyClassifier(strategy=\"most_frequent\")"
      ],
      "execution_count": 117,
      "outputs": []
    },
    {
      "cell_type": "markdown",
      "metadata": {
        "id": "XITxmIgzbh1M",
        "colab_type": "text"
      },
      "source": [
        "#### Model Training"
      ]
    },
    {
      "cell_type": "code",
      "metadata": {
        "id": "2_hw2sGtb3bI",
        "colab_type": "code",
        "colab": {
          "base_uri": "https://localhost:8080/",
          "height": 34
        },
        "outputId": "f8fc72ff-096d-4a40-b145-fc7082dbc997"
      },
      "source": [
        "dummy_clf.fit(X_new, y_new)"
      ],
      "execution_count": 118,
      "outputs": [
        {
          "output_type": "execute_result",
          "data": {
            "text/plain": [
              "DummyClassifier(constant=None, random_state=None, strategy='most_frequent')"
            ]
          },
          "metadata": {
            "tags": []
          },
          "execution_count": 118
        }
      ]
    },
    {
      "cell_type": "markdown",
      "metadata": {
        "id": "DRJmVVn_cCu0",
        "colab_type": "text"
      },
      "source": [
        "#### Model Prediction"
      ]
    },
    {
      "cell_type": "code",
      "metadata": {
        "id": "Jcgr2DBFcG9y",
        "colab_type": "code",
        "colab": {
          "base_uri": "https://localhost:8080/",
          "height": 34
        },
        "outputId": "5cd887b5-7673-4373-dd29-24dc3fc5864c"
      },
      "source": [
        "predictedValues = dummy_clf.predict(X_test)\n",
        "print('Sucessfully predicted the values')"
      ],
      "execution_count": 119,
      "outputs": [
        {
          "output_type": "stream",
          "text": [
            "Sucessfully predicted the values\n"
          ],
          "name": "stdout"
        }
      ]
    },
    {
      "cell_type": "markdown",
      "metadata": {
        "id": "uUUGKDLFcLx6",
        "colab_type": "text"
      },
      "source": [
        "#### Cross Validation Score"
      ]
    },
    {
      "cell_type": "code",
      "metadata": {
        "id": "J8912vyzcPyL",
        "colab_type": "code",
        "colab": {
          "base_uri": "https://localhost:8080/",
          "height": 136
        },
        "outputId": "0d501c7c-29ca-4c2f-a315-a9e7cb528836"
      },
      "source": [
        "recallScores, precisionScores, f1Scores = funcCustomCVScore(fncp_X_train=X_new, \n",
        "                                                            fncp_y_train=y_new, \n",
        "                                                            fncpKFold=10,\n",
        "                                                            fncpBaseModel=DummyClassifier,\n",
        "                                                            fncpBaseModelParam={'strategy':'most_frequent'},\n",
        "                                                            fncpRandomState=123,\n",
        "                                                            fncpScoreAverage='weighted')"
      ],
      "execution_count": 120,
      "outputs": [
        {
          "output_type": "stream",
          "text": [
            "10it [00:00, 41.07it/s]"
          ],
          "name": "stderr"
        },
        {
          "output_type": "stream",
          "text": [
            "\n",
            "\n",
            "The mean score and the 95% confidence interval of the score estimate are\n",
            "Recall: 20.66 (+/- 0.98)\n",
            "Precision: 45.45 (+/- 1.08)\n",
            "F1-Score: 28.41 (+/- 1.14)\n"
          ],
          "name": "stdout"
        },
        {
          "output_type": "stream",
          "text": [
            "\n"
          ],
          "name": "stderr"
        }
      ]
    },
    {
      "cell_type": "markdown",
      "metadata": {
        "id": "yZYMkRjsceWO",
        "colab_type": "text"
      },
      "source": [
        "#### Test Model Evaluation"
      ]
    },
    {
      "cell_type": "code",
      "metadata": {
        "id": "NA4ciDRncq6F",
        "colab_type": "code",
        "colab": {
          "base_uri": "https://localhost:8080/",
          "height": 102
        },
        "outputId": "f11e887f-07c2-4a6a-ed9a-88ecd6425043"
      },
      "source": [
        "fncpModelEvaluvate(fncpActual=y_test, \n",
        "                   fncpPredicted=predictedValues, \n",
        "                   fncpBoolHeatMap=False, \n",
        "                   fncpMultiClass=True,\n",
        "                   fncpAverageType='weighted')"
      ],
      "execution_count": 121,
      "outputs": [
        {
          "output_type": "stream",
          "text": [
            "Evaluation Metrics\n",
            "\n",
            "Recall Score :86.65%\n",
            "Precision Score :75.09%\n",
            "F1 Score :80.46%\n"
          ],
          "name": "stdout"
        }
      ]
    },
    {
      "cell_type": "markdown",
      "metadata": {
        "id": "b84aABQcaabl",
        "colab_type": "text"
      },
      "source": [
        "### Vanilla Randomforest Classifier"
      ]
    },
    {
      "cell_type": "code",
      "metadata": {
        "id": "Y1YSM5zOdHLt",
        "colab_type": "code",
        "colab": {}
      },
      "source": [
        "classiRandomForest = RandomForestClassifier()"
      ],
      "execution_count": 122,
      "outputs": []
    },
    {
      "cell_type": "markdown",
      "metadata": {
        "id": "F2iSsa0RdGeO",
        "colab_type": "text"
      },
      "source": [
        "#### Model Training"
      ]
    },
    {
      "cell_type": "code",
      "metadata": {
        "id": "dxWYRnSSdQAP",
        "colab_type": "code",
        "colab": {
          "base_uri": "https://localhost:8080/",
          "height": 153
        },
        "outputId": "90bca91f-e52e-4785-fde0-77a124656b9b"
      },
      "source": [
        "classiRandomForest.fit(X_new, y_new)"
      ],
      "execution_count": 123,
      "outputs": [
        {
          "output_type": "execute_result",
          "data": {
            "text/plain": [
              "RandomForestClassifier(bootstrap=True, ccp_alpha=0.0, class_weight=None,\n",
              "                       criterion='gini', max_depth=None, max_features='auto',\n",
              "                       max_leaf_nodes=None, max_samples=None,\n",
              "                       min_impurity_decrease=0.0, min_impurity_split=None,\n",
              "                       min_samples_leaf=1, min_samples_split=2,\n",
              "                       min_weight_fraction_leaf=0.0, n_estimators=100,\n",
              "                       n_jobs=None, oob_score=False, random_state=None,\n",
              "                       verbose=0, warm_start=False)"
            ]
          },
          "metadata": {
            "tags": []
          },
          "execution_count": 123
        }
      ]
    },
    {
      "cell_type": "markdown",
      "metadata": {
        "id": "Ir6kU-indZIO",
        "colab_type": "text"
      },
      "source": [
        "#### Model Prediction "
      ]
    },
    {
      "cell_type": "code",
      "metadata": {
        "id": "sxSxHPG0ddnf",
        "colab_type": "code",
        "colab": {
          "base_uri": "https://localhost:8080/",
          "height": 34
        },
        "outputId": "53c77835-9bfb-414c-fc65-a78ce6b8119e"
      },
      "source": [
        "predictedValues = classiRandomForest.predict(X_test)\n",
        "print('Sucessfully predicted the values')"
      ],
      "execution_count": 124,
      "outputs": [
        {
          "output_type": "stream",
          "text": [
            "Sucessfully predicted the values\n"
          ],
          "name": "stdout"
        }
      ]
    },
    {
      "cell_type": "markdown",
      "metadata": {
        "id": "d_giQP2OdlSS",
        "colab_type": "text"
      },
      "source": [
        "#### Cross Validation Score"
      ]
    },
    {
      "cell_type": "code",
      "metadata": {
        "id": "RjPK5DOedq5P",
        "colab_type": "code",
        "colab": {
          "base_uri": "https://localhost:8080/",
          "height": 136
        },
        "outputId": "b2fda982-d3c4-4962-fde8-14ff5be51d6d"
      },
      "source": [
        "recallScores, precisionScores, f1Scores = funcCustomCVScore(fncp_X_train=X_new, \n",
        "                                                            fncp_y_train=y_new, \n",
        "                                                            fncpKFold=10,\n",
        "                                                            fncpBaseModel=RandomForestClassifier,\n",
        "                                                            fncpBaseModelParam=None,\n",
        "                                                            fncpRandomState=123,\n",
        "                                                            fncpScoreAverage='weighted')"
      ],
      "execution_count": 125,
      "outputs": [
        {
          "output_type": "stream",
          "text": [
            "10it [00:58,  5.90s/it]"
          ],
          "name": "stderr"
        },
        {
          "output_type": "stream",
          "text": [
            "\n",
            "\n",
            "The mean score and the 95% confidence interval of the score estimate are\n",
            "Recall: 85.08 (+/- 0.79)\n",
            "Precision: 85.15 (+/- 0.76)\n",
            "F1-Score: 85.08 (+/- 0.77)\n"
          ],
          "name": "stdout"
        },
        {
          "output_type": "stream",
          "text": [
            "\n"
          ],
          "name": "stderr"
        }
      ]
    },
    {
      "cell_type": "markdown",
      "metadata": {
        "id": "9Gzgd_7weL3r",
        "colab_type": "text"
      },
      "source": [
        "#### Test Model Evaulation  "
      ]
    },
    {
      "cell_type": "code",
      "metadata": {
        "id": "4WFS_A60eS-_",
        "colab_type": "code",
        "colab": {
          "base_uri": "https://localhost:8080/",
          "height": 102
        },
        "outputId": "b1d5662d-cce6-4f24-b8a8-faef0f8a28d6"
      },
      "source": [
        "fncpModelEvaluvate(fncpActual=y_test, \n",
        "                   fncpPredicted=predictedValues, \n",
        "                   fncpBoolHeatMap=False, \n",
        "                   fncpMultiClass=True,\n",
        "                   fncpAverageType='weighted')"
      ],
      "execution_count": 126,
      "outputs": [
        {
          "output_type": "stream",
          "text": [
            "Evaluation Metrics\n",
            "\n",
            "Recall Score :82.49%\n",
            "Precision Score :81.75%\n",
            "F1 Score :82.1%\n"
          ],
          "name": "stdout"
        }
      ]
    },
    {
      "cell_type": "markdown",
      "metadata": {
        "id": "0s8WVi1wamsl",
        "colab_type": "text"
      },
      "source": [
        "### Random forest with optimum parameters"
      ]
    },
    {
      "cell_type": "markdown",
      "metadata": {
        "id": "qKOtnFX6aiw1",
        "colab_type": "text"
      },
      "source": [
        "#### Grid Search Parameters"
      ]
    },
    {
      "cell_type": "code",
      "metadata": {
        "id": "xw2IXmkReAph",
        "colab_type": "code",
        "colab": {
          "base_uri": "https://localhost:8080/",
          "height": 71
        },
        "outputId": "c7f5e407-67ed-4a7d-987d-f48a0bf70024"
      },
      "source": [
        "print(f'The hyperparameters are \\n{random_grid}')"
      ],
      "execution_count": 127,
      "outputs": [
        {
          "output_type": "stream",
          "text": [
            "The hyperparameters are \n",
            "{'n_estimators': [200, 400, 600, 800, 1000, 1200, 1400, 1600, 1800, 2000], 'max_features': ['auto', 'log2'], 'max_depth': [10, 20, 30, 40, 50, 60, 70, 80, 90, 100, 110, None], 'min_samples_split': [2, 5, 10], 'min_samples_leaf': [1, 2, 4], 'bootstrap': [True, False]}\n"
          ],
          "name": "stdout"
        }
      ]
    },
    {
      "cell_type": "markdown",
      "metadata": {
        "id": "0Fq9GwfTd2dv",
        "colab_type": "text"
      },
      "source": [
        "#### Random Search CV Training"
      ]
    },
    {
      "cell_type": "code",
      "metadata": {
        "id": "Cf7jjlVy1Aal",
        "colab_type": "code",
        "colab": {}
      },
      "source": [
        "start_time = time.time()\n",
        "model = classiRandomForest\n",
        "current_time = datetime.datetime.now(pytz.timezone('Asia/Kolkata')).strftime(\"%d%m%Y_%H%M%S\")\n",
        "modelFileName = PATH+'/Model/cv_SMOTE_model_'+ current_time +'.sav'\n",
        "print(f'Model training start time : {current_time}\\n')\n",
        "rf_random = RandomizedSearchCV(estimator=model, param_distributions=random_grid, n_iter=100, cv=3, verbose=3, random_state=42, n_jobs=-1)\n",
        "rf_random.fit(X_new, y_new)\n",
        "\n",
        "# Saving Model #\n",
        "pickle.dump(rf_random, open(modelFileName, 'wb'))\n",
        "smote_loaded_model = pickle.load(open(modelFileName, 'rb'))\n",
        "print(f'Minutes taken to complete training : {(time.time() - start_time)/60}')"
      ],
      "execution_count": 128,
      "outputs": []
    },
    {
      "cell_type": "code",
      "metadata": {
        "id": "OWzmtjTQb0ri",
        "colab_type": "code",
        "colab": {
          "base_uri": "https://localhost:8080/",
          "height": 34
        },
        "outputId": "fd41ce64-b3f2-40f8-a320-d6f718a80ac3"
      },
      "source": [
        "### Loading Model ###\n",
        "fileName = r'/content/gdrive/My Drive/AIML/DIY_Programs/MLPipeLine/Model/cv_SMOTE_model_04092020_140033.sav'\n",
        "smote_loaded_model = pickle.load(open(fileName, 'rb'))\n",
        "print('Sucessfully loaded the model!!!')"
      ],
      "execution_count": 129,
      "outputs": [
        {
          "output_type": "stream",
          "text": [
            "Sucessfully loaded the model!!!\n"
          ],
          "name": "stdout"
        }
      ]
    },
    {
      "cell_type": "code",
      "metadata": {
        "id": "jDzo6rLSef8n",
        "colab_type": "code",
        "colab": {
          "base_uri": "https://localhost:8080/",
          "height": 119
        },
        "outputId": "5c043fb1-0d6c-4994-853d-17c572abc8f6"
      },
      "source": [
        "for key, val in smote_loaded_model.best_params_.items():\n",
        "  print(f'The best \"{key}\" hyperparameter is: {val} ')"
      ],
      "execution_count": 130,
      "outputs": [
        {
          "output_type": "stream",
          "text": [
            "The best \"n_estimators\" hyperparameter is: 1000 \n",
            "The best \"min_samples_split\" hyperparameter is: 10 \n",
            "The best \"min_samples_leaf\" hyperparameter is: 1 \n",
            "The best \"max_features\" hyperparameter is: log2 \n",
            "The best \"max_depth\" hyperparameter is: 80 \n",
            "The best \"bootstrap\" hyperparameter is: False \n"
          ],
          "name": "stdout"
        }
      ]
    },
    {
      "cell_type": "code",
      "metadata": {
        "id": "3koAlaG2esQU",
        "colab_type": "code",
        "colab": {
          "base_uri": "https://localhost:8080/",
          "height": 833
        },
        "outputId": "a0143840-f436-4226-f0de-49d5e03cb757"
      },
      "source": [
        "### Feature Importance ###\n",
        "dfSMOTEImportantFeature = funcFeatureImportance(smote_loaded_model, X_train, fncpCV=True)"
      ],
      "execution_count": 131,
      "outputs": [
        {
          "output_type": "stream",
          "text": [
            "Top 20 Important Feature\n",
            "\n",
            "                             importance\n",
            "f_age                          0.266528\n",
            "f_yearstoFirstFunding          0.155813\n",
            "f_SumCol                       0.109606\n",
            "f_FirstFundingToLastFunding    0.105681\n",
            "f_country_code_USA             0.102854\n",
            "f_Multi_Category               0.084488\n",
            "venture                        0.071715\n",
            "seed                           0.044897\n",
            "funding_rounds                 0.033841\n",
            "f_URL                          0.024578\n",
            "post_ipo_equity                0.000000\n",
            "f_country_code_JAM             0.000000\n",
            "f_region_London                0.000000\n",
            "f_region_Boston                0.000000\n",
            "f_region_New York City         0.000000\n",
            "f_region_SF Bay Area           0.000000\n",
            "f_country_code_MAF             0.000000\n",
            "f_country_code_CIV             0.000000\n",
            "f_country_code_SYC             0.000000\n",
            "f_country_code_MKD             0.000000\n",
            "\n",
            "\n",
            "Bottom 20 Important Feature\n",
            "\n",
            "                                importance\n",
            "f_market_Cooking                       0.0\n",
            "f_market_Polling                       0.0\n",
            "f_market_Oil and Gas                   0.0\n",
            "f_market_Computer Vision               0.0\n",
            "f_country_code_CHN                     0.0\n",
            "f_country_code_CAN                     0.0\n",
            "debt_financing                         0.0\n",
            "grant                                  0.0\n",
            "f_market_Fuels                         0.0\n",
            "f_market_Film Distribution             0.0\n",
            "f_market_Timeshares                    0.0\n",
            "f_market_Remediation                   0.0\n",
            "f_market_RIM                           0.0\n",
            "f_market_Unifed Communications         0.0\n",
            "f_market_Product Design                0.0\n",
            "f_market_Shipping                      0.0\n",
            "f_market_Identity Management           0.0\n",
            "f_market_Law Enforcement               0.0\n",
            "f_market_3D Printing                   0.0\n",
            "f_country_code_GBR                     0.0\n"
          ],
          "name": "stdout"
        }
      ]
    },
    {
      "cell_type": "markdown",
      "metadata": {
        "id": "rPYeItpL7NQS",
        "colab_type": "text"
      },
      "source": [
        "#### Cross Validation Score"
      ]
    },
    {
      "cell_type": "code",
      "metadata": {
        "id": "6I9bXv3G7Xr3",
        "colab_type": "code",
        "colab": {
          "base_uri": "https://localhost:8080/",
          "height": 68
        },
        "outputId": "21ed7660-742f-4299-c49a-54dc7d5d3aa1"
      },
      "source": [
        "recallScores, precisionScores, f1Scores = funcCustomCVScore(fncp_X_train=X_new, \n",
        "                                                            fncp_y_train=y_new, \n",
        "                                                            fncpKFold=10,\n",
        "                                                            fncpBaseModel=RandomForestClassifier, \n",
        "                                                            fncpBaseModelParam=smote_loaded_model.best_params_,\n",
        "                                                            fncpRandomState=123,\n",
        "                                                            fncpScoreAverage='weighted')"
      ],
      "execution_count": 132,
      "outputs": [
        {
          "output_type": "stream",
          "text": [
            "Recall: 85.75 (+/- 0.91)\n",
            "Precision: 85.82 (+/- 0.90)\n",
            "F1-Score: 85.70 (+/- 0.93)\n"
          ],
          "name": "stdout"
        }
      ]
    },
    {
      "cell_type": "markdown",
      "metadata": {
        "id": "LvTCC3JUoukc",
        "colab_type": "text"
      },
      "source": [
        "#### Model Prediction"
      ]
    },
    {
      "cell_type": "code",
      "metadata": {
        "id": "EUuPanCY9N8j",
        "colab_type": "code",
        "colab": {
          "base_uri": "https://localhost:8080/",
          "height": 34
        },
        "outputId": "0baafc0b-4f5d-48e6-fab5-96af43e7943f"
      },
      "source": [
        "smotePredictedValues = smote_loaded_model.best_estimator_.predict(X_test)\n",
        "print('Sucessfully predicted the values')"
      ],
      "execution_count": 133,
      "outputs": [
        {
          "output_type": "stream",
          "text": [
            "Sucessfully predicted the values\n"
          ],
          "name": "stdout"
        }
      ]
    },
    {
      "cell_type": "markdown",
      "metadata": {
        "id": "M3UPbYNnp2Ct",
        "colab_type": "text"
      },
      "source": [
        "#### Test Model Evaluation"
      ]
    },
    {
      "cell_type": "code",
      "metadata": {
        "id": "GXSO4Yn1p7Lu",
        "colab_type": "code",
        "colab": {
          "base_uri": "https://localhost:8080/",
          "height": 102
        },
        "outputId": "35629e81-f4c9-41a6-d1f2-c2dd2753a808"
      },
      "source": [
        "fncpModelEvaluvate(y_test, smotePredictedValues, fncpBoolHeatMap=False, fncpMultiClass=True,fncpAverageType='weighted')"
      ],
      "execution_count": 134,
      "outputs": [
        {
          "output_type": "stream",
          "text": [
            "Evaluation Metrics\n",
            "\n",
            "Recall Score :85.95%\n",
            "Precision Score :84.96%\n",
            "F1 Score :85.39%\n"
          ],
          "name": "stdout"
        }
      ]
    },
    {
      "cell_type": "markdown",
      "metadata": {
        "id": "MZXVMwR-npwJ",
        "colab_type": "text"
      },
      "source": [
        "# Model Deployment"
      ]
    },
    {
      "cell_type": "code",
      "metadata": {
        "id": "e2yTESXvnUyE",
        "colab_type": "code",
        "colab": {}
      },
      "source": [
        "UserInput = [[1.0e+00, 0.0e+00, 7.0e+06, 0.0e+00, 0.0e+00, 0.0e+00, 0.0e+00,\n",
        "        0.0e+00, 0.0e+00, 0.0e+00, 0.0e+00, 0.0e+00, 0.0e+00, 0.0e+00,\n",
        "        0.0e+00, 0.0e+00, 0.0e+00, 0.0e+00, 0.0e+00, 0.0e+00, 0.0e+00,\n",
        "        1.4e+07, 0.0e+00, 0.0e+00, 0.0e+00, 0.0e+00, 0.0e+00, 0.0e+00,\n",
        "        0.0e+00, 0.0e+00, 0.0e+00, 0.0e+00, 0.0e+00, 0.0e+00, 0.0e+00,\n",
        "        0.0e+00, 0.0e+00, 0.0e+00, 0.0e+00, 0.0e+00, 0.0e+00, 0.0e+00,\n",
        "        1.0e+00, 0.0e+00, 0.0e+00, 0.0e+00, 0.0e+00, 0.0e+00, 0.0e+00,\n",
        "        0.0e+00, 0.0e+00, 0.0e+00, 0.0e+00, 0.0e+00, 0.0e+00, 0.0e+00,\n",
        "        0.0e+00, 0.0e+00, 0.0e+00, 0.0e+00, 0.0e+00, 0.0e+00, 0.0e+00,\n",
        "        0.0e+00, 0.0e+00, 0.0e+00, 0.0e+00, 0.0e+00, 0.0e+00, 0.0e+00,\n",
        "        0.0e+00, 0.0e+00, 0.0e+00, 0.0e+00, 0.0e+00, 0.0e+00, 0.0e+00,\n",
        "        0.0e+00, 0.0e+00, 0.0e+00, 0.0e+00, 0.0e+00, 0.0e+00, 1.0e+00,\n",
        "        2.4e+01, 1.7e+01, 0.0e+00]]"
      ],
      "execution_count": 146,
      "outputs": []
    },
    {
      "cell_type": "code",
      "metadata": {
        "id": "hMxHOT57msFn",
        "colab_type": "code",
        "colab": {
          "base_uri": "https://localhost:8080/",
          "height": 34
        },
        "outputId": "f82f50f0-6224-4bfb-865f-52c2a3f48393"
      },
      "source": [
        "predictedValue = smote_loaded_model.best_estimator_.predict(UserInput)\n",
        "prdictedClass = label_encoder.inverse_transform(predictedValue)\n",
        "print(f'The predicted value is \"{prdictedClass.item()}\"')"
      ],
      "execution_count": 152,
      "outputs": [
        {
          "output_type": "stream",
          "text": [
            "The predicted value is \"operating\"\n"
          ],
          "name": "stdout"
        }
      ]
    }
  ]
}